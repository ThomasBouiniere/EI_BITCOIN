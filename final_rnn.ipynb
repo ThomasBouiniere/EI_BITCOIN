{
 "cells": [
  {
   "cell_type": "markdown",
   "metadata": {},
   "source": [
    "# This notebook is useful once you have chosen your set of parameters in order to evaluate it"
   ]
  },
  {
   "cell_type": "code",
   "execution_count": 1,
   "metadata": {},
   "outputs": [
    {
     "name": "stderr",
     "output_type": "stream",
     "text": [
      "/opt/anaconda3/lib/python3.8/site-packages/statsmodels/tsa/base/tsa_model.py:7: FutureWarning: pandas.Int64Index is deprecated and will be removed from pandas in a future version. Use pandas.Index with the appropriate dtype instead.\n",
      "  from pandas import (to_datetime, Int64Index, DatetimeIndex, Period,\n",
      "/opt/anaconda3/lib/python3.8/site-packages/statsmodels/tsa/base/tsa_model.py:7: FutureWarning: pandas.Float64Index is deprecated and will be removed from pandas in a future version. Use pandas.Index with the appropriate dtype instead.\n",
      "  from pandas import (to_datetime, Int64Index, DatetimeIndex, Period,\n"
     ]
    }
   ],
   "source": [
    "#Imports\n",
    "\n",
    "import os\n",
    "import numpy as np\n",
    "import pandas as pd\n",
    "\n",
    "from matplotlib import pyplot as plt\n",
    "from tensorflow import keras\n",
    "from keras import layers\n",
    "\n",
    "from sklearn.preprocessing import MinMaxScaler\n",
    "import sklearn.preprocessing as sk\n",
    "\n",
    "import helper_functions as hf\n",
    "\n",
    "from analysis_tools import *\n",
    "\n",
    "CURDIR = os.getcwd()\n",
    "DATADIR = os.path.join(CURDIR,  \"data\")\n",
    "FIGDIR = os.path.join(CURDIR,  \"figure\")"
   ]
  },
  {
   "cell_type": "markdown",
   "metadata": {},
   "source": []
  },
  {
   "cell_type": "code",
   "execution_count": 2,
   "metadata": {},
   "outputs": [],
   "source": [
    "## Let's choose your parameters\n",
    "\n",
    "#Default values are our best parameters\n",
    "\n",
    "\n",
    "#process data\n",
    "type_of_data = 'Price' #'All'\n",
    "add_return = False\n",
    "add_log_functions = False\n",
    "drop_higly_correlated_data = True\n",
    "add_analysed_curves = True\n",
    "scaler, feature_range = sk.MinMaxScaler, (0,1)\n",
    "\n",
    "# params model rnn\n",
    "rnn_size = 10\n",
    "size_train = 2000\n",
    "size_valid = 800\n",
    "size_test = 3544 - size_train - size_valid\n",
    "target_id = 0\n",
    "type_of_rnn = 'GRU'\n",
    "nb_layers = 1\n",
    "nb_units = [128]\n",
    "learning_rate = 0.001\n",
    "optimizer = keras.optimizers.Adam\n",
    "loss = keras.losses.MeanSquaredError()\n",
    "batch_size = 8\n",
    "epochs = 120"
   ]
  },
  {
   "cell_type": "markdown",
   "metadata": {},
   "source": [
    "# Import Data\n",
    "\n",
    "Here, we load data into a Pandas DataFrame"
   ]
  },
  {
   "cell_type": "code",
   "execution_count": 3,
   "metadata": {},
   "outputs": [],
   "source": [
    "df_blockchain = pd.read_csv(os.path.join(DATADIR, \"df_blockchain.csv\"),  # Load data\n",
    "                            delimiter=\",\")"
   ]
  },
  {
   "cell_type": "code",
   "execution_count": 4,
   "metadata": {},
   "outputs": [
    {
     "name": "stderr",
     "output_type": "stream",
     "text": [
      "<ipython-input-4-40ba93a737d2>:3: FutureWarning: In a future version of pandas all arguments of DataFrame.drop except for the argument 'labels' will be keyword-only.\n",
      "  df_blockchain.drop(index_with_nan,0, inplace=True)\n"
     ]
    }
   ],
   "source": [
    "# nettoyer les datas\n",
    "index_with_nan = df_blockchain.index[df_blockchain.isnull().any(axis=1)]\n",
    "df_blockchain.drop(index_with_nan,0, inplace=True)"
   ]
  },
  {
   "cell_type": "code",
   "execution_count": 5,
   "metadata": {},
   "outputs": [],
   "source": [
    "if add_log_functions: # Si on veut ajouter les données passées au log\n",
    "    df_blockchain['market-price'] = np.log(df_blockchain['market-price'])"
   ]
  },
  {
   "cell_type": "code",
   "execution_count": 6,
   "metadata": {},
   "outputs": [],
   "source": [
    "if type_of_data == 'Price':\n",
    "    if add_analysed_curves:\n",
    "        df = df_blockchain[\"market-price\"]\n",
    "        ma1_2 = deltamma(df, 20, 50)\n",
    "        macd1, macd2, macd3 = macd(df, .75, 12, 26)\n",
    "        boll = bollinger(df, 20, 2)\n",
    "        new_val = []\n",
    "        for i in [ma1_2, macd1, macd3, boll]:\n",
    "            for j in i.columns:\n",
    "                new_val.append(j)\n",
    "        macd1 = macd1[50 - 26:]\n",
    "        macd2 = macd2[50 - 26 - 9:]\n",
    "        macd3 = macd3[50 - 26 - 9:]\n",
    "        boll = boll[50 - 20:]\n",
    "        df_blockchain = df_blockchain[50:]\n",
    "        macd1.reset_index(inplace=True)\n",
    "        macd2.reset_index(inplace=True)\n",
    "        macd3.reset_index(inplace=True)\n",
    "        boll.reset_index(inplace=True)\n",
    "        df_blockchain.reset_index(inplace=True)\n",
    "        df_blockchain = pd.concat([df_blockchain, ma1_2, macd1, macd3, boll], axis=1)\n",
    "\n",
    "        columns = [\"market-price\"]+new_val\n",
    "        dataset = df_blockchain[columns]\n",
    "    else:\n",
    "        columns = ['market-price']\n",
    "        dataset = df_blockchain[columns]\n",
    "\n",
    "if type_of_data == 'All':\n",
    "    if add_analysed_curves:\n",
    "        df = df_blockchain['market-price']\n",
    "        ma1_2 = deltamma(df, 20, 50)\n",
    "        macd1, macd2, macd3 = macd(df, .75, 12, 26)\n",
    "        boll = bollinger(df, 20, 2)\n",
    "        new_val = []\n",
    "        for i in [ma1_2, macd1, macd3, boll]:\n",
    "            for j in i.columns:\n",
    "                new_val.append(j)\n",
    "        macd1 = macd1[50 - 26:]\n",
    "        macd2 = macd2[50 - 26 - 9:]\n",
    "        macd3 = macd3[50 - 26 - 9:]\n",
    "        boll = boll[50 - 20:]\n",
    "        df_blockchain = df_blockchain[50:]\n",
    "        macd1.reset_index(inplace=True)\n",
    "        macd2.reset_index(inplace=True)\n",
    "        macd3.reset_index(inplace=True)\n",
    "        boll.reset_index(inplace=True)\n",
    "        df_blockchain.reset_index(inplace=True)\n",
    "        df_blockchain = pd.concat([df_blockchain, ma1_2, macd1, macd3, boll], axis=1)\n",
    "\n",
    "        if drop_higly_correlated_data:\n",
    "            columns = [\"market-price\",\"n-transactions-per-block\",\"hash-rate\",\"difficulty\",\"miners-revenue\",\"trade-volume\",\"blocks-size\",\"avg-block-size\",\"transaction-fees\",\"transaction-fees-usd\",\"cost-per-transaction-percent\",\"cost-per-transaction\",\"n-transactions\",\"n-transactions-total\",\"n-transactions-excluding-popular\",\"estimated-transaction-volume-usd\",\"total-bitcoins\",\"market-cap\"]\n",
    "            columns = columns + new_val\n",
    "            dataset = df_blockchain[columns]   \n",
    "        else:\n",
    "            columns = list(df_blockchain.columns)[1:] + new_val\n",
    "            dataset = df_blockchain[columns]\n",
    "    else:\n",
    "        if drop_higly_correlated_data:\n",
    "            columns = [\"market-price\",\"n-transactions-per-block\",\"hash-rate\",\"difficulty\",\"miners-revenue\",\"trade-volume\",\"blocks-size\",\"avg-block-size\",\"transaction-fees\",\"transaction-fees-usd\",\"cost-per-transaction-percent\",\"cost-per-transaction\",\"n-transactions\",\"n-transactions-total\",\"n-transactions-excluding-popular\",\"estimated-transaction-volume-usd\",\"total-bitcoins\",\"market-cap\"]\n",
    "            dataset = df_blockchain[columns]   \n",
    "        else:\n",
    "            columns = list(df_blockchain.columns)[1:]\n",
    "            dataset = df_blockchain[columns]"
   ]
  },
  {
   "cell_type": "code",
   "execution_count": 7,
   "metadata": {},
   "outputs": [],
   "source": [
    "if add_return:\n",
    "    col = dataset['market-price'].diff().iloc[1:]\n",
    "    col[0] = 0\n",
    "    dataset['ret'] = col\n",
    "    columns.append('ret')\n",
    "    "
   ]
  },
  {
   "cell_type": "code",
   "execution_count": 8,
   "metadata": {},
   "outputs": [
    {
     "name": "stderr",
     "output_type": "stream",
     "text": [
      "<ipython-input-8-bada5b9cf9aa>:17: FutureWarning: In a future version of pandas all arguments of DataFrame.drop except for the argument 'labels' will be keyword-only.\n",
      "  dataset.drop(index_with_nan,0, inplace=True)\n",
      "<ipython-input-8-bada5b9cf9aa>:17: SettingWithCopyWarning: \n",
      "A value is trying to be set on a copy of a slice from a DataFrame\n",
      "\n",
      "See the caveats in the documentation: https://pandas.pydata.org/pandas-docs/stable/user_guide/indexing.html#returning-a-view-versus-a-copy\n",
      "  dataset.drop(index_with_nan,0, inplace=True)\n"
     ]
    }
   ],
   "source": [
    "# On nettoie les colonnes si nécessaire\n",
    "try:\n",
    "    dataset.drop(columns='index', inplace=True)\n",
    "except:\n",
    "    pass\n",
    "try:\n",
    "    dataset.drop(columns='Date', inplace=True)\n",
    "except:\n",
    "    pass\n",
    "\n",
    "\n",
    "for i,x in enumerate(columns):\n",
    "    if x == 'index' or x == 'Date':\n",
    "        columns.pop(i)\n",
    "\n",
    "\n",
    "index_with_nan = dataset.index[dataset.iloc[:,1].isnull()]\n",
    "dataset.drop(index_with_nan,0, inplace=True)"
   ]
  },
  {
   "cell_type": "code",
   "execution_count": 9,
   "metadata": {},
   "outputs": [
    {
     "data": {
      "text/html": [
       "<div>\n",
       "<style scoped>\n",
       "    .dataframe tbody tr th:only-of-type {\n",
       "        vertical-align: middle;\n",
       "    }\n",
       "\n",
       "    .dataframe tbody tr th {\n",
       "        vertical-align: top;\n",
       "    }\n",
       "\n",
       "    .dataframe thead th {\n",
       "        text-align: right;\n",
       "    }\n",
       "</style>\n",
       "<table border=\"1\" class=\"dataframe\">\n",
       "  <thead>\n",
       "    <tr style=\"text-align: right;\">\n",
       "      <th></th>\n",
       "      <th>market-price</th>\n",
       "      <th>MA20_50</th>\n",
       "      <th>MACD12_26</th>\n",
       "      <th>MACDH</th>\n",
       "      <th>BOLL20_2+</th>\n",
       "      <th>BOLL20_2-</th>\n",
       "      <th>BOLLWDTH20_2</th>\n",
       "    </tr>\n",
       "  </thead>\n",
       "  <tbody>\n",
       "    <tr>\n",
       "      <th>0</th>\n",
       "      <td>3.41</td>\n",
       "      <td>-1.1504</td>\n",
       "      <td>0.006913</td>\n",
       "      <td>0.026179</td>\n",
       "      <td>4.331855</td>\n",
       "      <td>2.368145</td>\n",
       "      <td>1.963711</td>\n",
       "    </tr>\n",
       "    <tr>\n",
       "      <th>1</th>\n",
       "      <td>3.28</td>\n",
       "      <td>-1.1290</td>\n",
       "      <td>0.009878</td>\n",
       "      <td>0.021620</td>\n",
       "      <td>4.166560</td>\n",
       "      <td>2.437440</td>\n",
       "      <td>1.729120</td>\n",
       "    </tr>\n",
       "    <tr>\n",
       "      <th>2</th>\n",
       "      <td>3.22</td>\n",
       "      <td>-1.1118</td>\n",
       "      <td>0.007341</td>\n",
       "      <td>0.012671</td>\n",
       "      <td>4.044247</td>\n",
       "      <td>2.477753</td>\n",
       "      <td>1.566494</td>\n",
       "    </tr>\n",
       "    <tr>\n",
       "      <th>3</th>\n",
       "      <td>3.17</td>\n",
       "      <td>-1.0973</td>\n",
       "      <td>0.004849</td>\n",
       "      <td>0.006035</td>\n",
       "      <td>3.925326</td>\n",
       "      <td>2.517674</td>\n",
       "      <td>1.407652</td>\n",
       "    </tr>\n",
       "    <tr>\n",
       "      <th>4</th>\n",
       "      <td>3.04</td>\n",
       "      <td>-1.0841</td>\n",
       "      <td>0.003868</td>\n",
       "      <td>0.002638</td>\n",
       "      <td>3.824380</td>\n",
       "      <td>2.548620</td>\n",
       "      <td>1.275760</td>\n",
       "    </tr>\n",
       "  </tbody>\n",
       "</table>\n",
       "</div>"
      ],
      "text/plain": [
       "   market-price  MA20_50  MACD12_26     MACDH  BOLL20_2+  BOLL20_2-  \\\n",
       "0          3.41  -1.1504   0.006913  0.026179   4.331855   2.368145   \n",
       "1          3.28  -1.1290   0.009878  0.021620   4.166560   2.437440   \n",
       "2          3.22  -1.1118   0.007341  0.012671   4.044247   2.477753   \n",
       "3          3.17  -1.0973   0.004849  0.006035   3.925326   2.517674   \n",
       "4          3.04  -1.0841   0.003868  0.002638   3.824380   2.548620   \n",
       "\n",
       "   BOLLWDTH20_2  \n",
       "0      1.963711  \n",
       "1      1.729120  \n",
       "2      1.566494  \n",
       "3      1.407652  \n",
       "4      1.275760  "
      ]
     },
     "execution_count": 9,
     "metadata": {},
     "output_type": "execute_result"
    }
   ],
   "source": [
    "dataset.head() # colonnes utilisées pour train le modèle"
   ]
  },
  {
   "cell_type": "markdown",
   "metadata": {},
   "source": [
    "# Data scaling"
   ]
  },
  {
   "cell_type": "code",
   "execution_count": 10,
   "metadata": {},
   "outputs": [],
   "source": [
    "scaler = scaler(feature_range=feature_range)  # On normalise les données pour améliorer l'apprentissage\n",
    "dataset = scaler.fit_transform(dataset.values.reshape(-1,len(columns)))\n"
   ]
  },
  {
   "cell_type": "markdown",
   "metadata": {},
   "source": [
    "# Process data (Making sequences)\n"
   ]
  },
  {
   "cell_type": "code",
   "execution_count": 11,
   "metadata": {},
   "outputs": [],
   "source": [
    "data_train = dataset[:size_train]\n",
    "data_valid = dataset[size_train:size_train+size_valid]\n",
    "data_test = dataset[size_train+size_valid:size_train+size_valid+size_test]"
   ]
  },
  {
   "cell_type": "code",
   "execution_count": 12,
   "metadata": {},
   "outputs": [],
   "source": [
    "def process_data(data, rnn_size=rnn_size, target_id=target_id, columns_size=len(columns)):\n",
    "    X = []\n",
    "    y = []\n",
    "    for i in range(len(data)-rnn_size):\n",
    "        X.append(data[i:i+rnn_size,:])\n",
    "        y.append(data[i+rnn_size,target_id])\n",
    "    return np.array(X).astype(np.float32).reshape((-1,rnn_size,columns_size)), np.array(y).astype(np.float32)"
   ]
  },
  {
   "cell_type": "code",
   "execution_count": 13,
   "metadata": {},
   "outputs": [],
   "source": [
    "# process data for RNN\n",
    "X_train, y_train = process_data(data_train, rnn_size)\n",
    "X_val, y_val = process_data(data_valid, rnn_size)\n",
    "X_test, y_test = process_data(data_test, rnn_size)"
   ]
  },
  {
   "cell_type": "markdown",
   "metadata": {},
   "source": [
    "# Deep Learning Model\n"
   ]
  },
  {
   "cell_type": "code",
   "execution_count": 14,
   "metadata": {},
   "outputs": [],
   "source": [
    "callback= keras.callbacks.EarlyStopping(monitor='val_loss', min_delta=0,  #allows us to keep the best weights after training the model\n",
    "    patience=15,\n",
    "    verbose=0,\n",
    "    mode=\"auto\",\n",
    "    restore_best_weights = True)\n",
    "\n",
    "if type_of_rnn == 'LSTM':\n",
    "    regressor = keras.Sequential()\n",
    "    regressor.add(\n",
    "        keras.layers.Bidirectional(  # We use bidirectional layer\n",
    "            keras.layers.LSTM(\n",
    "                units = nb_units[0],\n",
    "                input_shape = (X_train.shape[1],X_train.shape[2] )\n",
    "            )\n",
    "        )\n",
    "    )\n",
    "    for i in range(1,nb_layers): # add nb_layers layers\n",
    "        regressor.add(keras.layers.Dense(units = nb_units[i]))\n",
    "    regressor.add(keras.layers.Dense(units = 1))\n",
    "    \n",
    "    opt = optimizer(learning_rate=learning_rate)\n",
    "    #Compiling the Recurrent Neural Network with adam optimier and 'mean_absolute_error' as loss function\n",
    "    regressor.compile(loss=loss, optimizer=opt)\n",
    "else:\n",
    "    regressor = keras.Sequential()\n",
    "    regressor.add(\n",
    "        keras.layers.Bidirectional(   # We use bidirectional layer\n",
    "            keras.layers.GRU(\n",
    "                units = nb_units[0],\n",
    "                input_shape = (X_train.shape[1],X_train.shape[2] )\n",
    "            )\n",
    "        )\n",
    "    )\n",
    "    for i in range(1,nb_layers):\n",
    "        regressor.add(keras.layers.Dense(units = nb_units[i]))\n",
    "    regressor.add(keras.layers.Dense(units = 1))\n",
    "    \n",
    "    opt = optimizer(learning_rate=learning_rate)\n",
    "    #Compiling the Recurrent Neural Network with the chosen optimier and the chosen norm as loss function\n",
    "    regressor.compile(loss=loss, optimizer=opt)\n"
   ]
  },
  {
   "cell_type": "code",
   "execution_count": 15,
   "metadata": {},
   "outputs": [
    {
     "name": "stdout",
     "output_type": "stream",
     "text": [
      "Epoch 1/120\n",
      "249/249 [==============================] - 7s 9ms/step - loss: 2.6175e-04 - val_loss: 3.8530e-04\n",
      "Epoch 2/120\n",
      "249/249 [==============================] - 1s 6ms/step - loss: 1.4583e-06 - val_loss: 3.3559e-04\n",
      "Epoch 3/120\n",
      "249/249 [==============================] - 2s 6ms/step - loss: 1.7866e-06 - val_loss: 3.1733e-04\n",
      "Epoch 4/120\n",
      "249/249 [==============================] - 2s 6ms/step - loss: 1.4560e-06 - val_loss: 2.7727e-04\n",
      "Epoch 5/120\n",
      "249/249 [==============================] - 2s 7ms/step - loss: 1.4025e-06 - val_loss: 2.5069e-04\n",
      "Epoch 6/120\n",
      "249/249 [==============================] - 2s 7ms/step - loss: 2.7112e-06 - val_loss: 2.1493e-04\n",
      "Epoch 7/120\n",
      "249/249 [==============================] - 2s 7ms/step - loss: 1.7097e-06 - val_loss: 1.8854e-04\n",
      "Epoch 8/120\n",
      "249/249 [==============================] - 2s 7ms/step - loss: 2.4965e-06 - val_loss: 1.7284e-04\n",
      "Epoch 9/120\n",
      "249/249 [==============================] - 2s 7ms/step - loss: 2.8562e-06 - val_loss: 1.6227e-04\n",
      "Epoch 10/120\n",
      "249/249 [==============================] - 2s 8ms/step - loss: 3.3195e-06 - val_loss: 1.6015e-04\n",
      "Epoch 11/120\n",
      "249/249 [==============================] - 2s 8ms/step - loss: 2.7235e-06 - val_loss: 1.2734e-04\n",
      "Epoch 12/120\n",
      "249/249 [==============================] - 2s 8ms/step - loss: 5.7114e-06 - val_loss: 1.1618e-04\n",
      "Epoch 13/120\n",
      "249/249 [==============================] - 2s 7ms/step - loss: 3.3698e-06 - val_loss: 1.0954e-04\n",
      "Epoch 14/120\n",
      "249/249 [==============================] - 2s 8ms/step - loss: 2.9514e-06 - val_loss: 1.0399e-04\n",
      "Epoch 15/120\n",
      "249/249 [==============================] - 3s 10ms/step - loss: 2.6838e-06 - val_loss: 9.2616e-05\n",
      "Epoch 16/120\n",
      "249/249 [==============================] - 3s 10ms/step - loss: 4.4484e-06 - val_loss: 1.1251e-04\n",
      "Epoch 17/120\n",
      "249/249 [==============================] - 2s 7ms/step - loss: 4.1704e-06 - val_loss: 8.8466e-05\n",
      "Epoch 18/120\n",
      "249/249 [==============================] - 2s 6ms/step - loss: 2.9630e-06 - val_loss: 1.6631e-04\n",
      "Epoch 19/120\n",
      "249/249 [==============================] - 2s 6ms/step - loss: 2.9450e-06 - val_loss: 7.9647e-05\n",
      "Epoch 20/120\n",
      "249/249 [==============================] - 2s 6ms/step - loss: 2.5561e-06 - val_loss: 8.4827e-05\n",
      "Epoch 21/120\n",
      "249/249 [==============================] - 2s 6ms/step - loss: 2.3577e-06 - val_loss: 7.1927e-05\n",
      "Epoch 22/120\n",
      "249/249 [==============================] - 2s 7ms/step - loss: 2.2742e-06 - val_loss: 8.4816e-05\n",
      "Epoch 23/120\n",
      "249/249 [==============================] - 2s 7ms/step - loss: 2.0521e-06 - val_loss: 6.6355e-05\n",
      "Epoch 24/120\n",
      "249/249 [==============================] - 2s 6ms/step - loss: 2.3803e-06 - val_loss: 7.0842e-05\n",
      "Epoch 25/120\n",
      "249/249 [==============================] - 2s 7ms/step - loss: 1.9601e-06 - val_loss: 6.4307e-05\n",
      "Epoch 26/120\n",
      "249/249 [==============================] - 2s 6ms/step - loss: 2.4388e-06 - val_loss: 6.6462e-05\n",
      "Epoch 27/120\n",
      "249/249 [==============================] - 2s 6ms/step - loss: 1.8532e-06 - val_loss: 6.0288e-05\n",
      "Epoch 28/120\n",
      "249/249 [==============================] - 2s 6ms/step - loss: 1.7059e-06 - val_loss: 5.9322e-05\n",
      "Epoch 29/120\n",
      "249/249 [==============================] - 2s 6ms/step - loss: 2.0078e-06 - val_loss: 7.8707e-05\n",
      "Epoch 30/120\n",
      "249/249 [==============================] - 2s 6ms/step - loss: 1.9461e-06 - val_loss: 6.0645e-05\n",
      "Epoch 31/120\n",
      "249/249 [==============================] - 2s 6ms/step - loss: 1.2966e-06 - val_loss: 5.8522e-05\n",
      "Epoch 32/120\n",
      "249/249 [==============================] - 2s 6ms/step - loss: 1.8407e-06 - val_loss: 5.5052e-05\n",
      "Epoch 33/120\n",
      "249/249 [==============================] - 2s 6ms/step - loss: 1.7322e-06 - val_loss: 6.8479e-05\n",
      "Epoch 34/120\n",
      "249/249 [==============================] - 2s 6ms/step - loss: 2.3740e-06 - val_loss: 8.2291e-05\n",
      "Epoch 35/120\n",
      "249/249 [==============================] - 2s 6ms/step - loss: 1.3274e-06 - val_loss: 5.3799e-05\n",
      "Epoch 36/120\n",
      "249/249 [==============================] - 2s 6ms/step - loss: 8.6534e-07 - val_loss: 9.1282e-05\n",
      "Epoch 37/120\n",
      "249/249 [==============================] - 2s 6ms/step - loss: 1.3941e-06 - val_loss: 7.9866e-05\n",
      "Epoch 38/120\n",
      "249/249 [==============================] - 2s 6ms/step - loss: 1.1738e-06 - val_loss: 5.3228e-05\n",
      "Epoch 39/120\n",
      "249/249 [==============================] - 2s 7ms/step - loss: 1.0200e-06 - val_loss: 5.1164e-05\n",
      "Epoch 40/120\n",
      "249/249 [==============================] - 2s 9ms/step - loss: 1.9469e-06 - val_loss: 5.1182e-05\n",
      "Epoch 41/120\n",
      "249/249 [==============================] - 2s 7ms/step - loss: 1.4107e-06 - val_loss: 5.8652e-05\n",
      "Epoch 42/120\n",
      "249/249 [==============================] - 2s 8ms/step - loss: 1.0308e-06 - val_loss: 5.3000e-05\n",
      "Epoch 43/120\n",
      "249/249 [==============================] - 2s 7ms/step - loss: 1.1567e-06 - val_loss: 5.1031e-05\n",
      "Epoch 44/120\n",
      "249/249 [==============================] - 2s 7ms/step - loss: 1.1330e-06 - val_loss: 4.7198e-05\n",
      "Epoch 45/120\n",
      "249/249 [==============================] - 2s 8ms/step - loss: 9.6110e-07 - val_loss: 5.0599e-05\n",
      "Epoch 46/120\n",
      "249/249 [==============================] - 2s 7ms/step - loss: 1.2375e-06 - val_loss: 7.6032e-05\n",
      "Epoch 47/120\n",
      "249/249 [==============================] - 2s 9ms/step - loss: 1.4862e-06 - val_loss: 4.6660e-05\n",
      "Epoch 48/120\n",
      "249/249 [==============================] - 2s 7ms/step - loss: 7.4006e-07 - val_loss: 4.6186e-05\n",
      "Epoch 49/120\n",
      "249/249 [==============================] - 2s 7ms/step - loss: 1.1533e-06 - val_loss: 4.7391e-05\n",
      "Epoch 50/120\n",
      "249/249 [==============================] - 2s 8ms/step - loss: 8.0136e-07 - val_loss: 4.8836e-05\n",
      "Epoch 51/120\n",
      "249/249 [==============================] - 2s 8ms/step - loss: 1.1765e-06 - val_loss: 4.9223e-05\n",
      "Epoch 52/120\n",
      "249/249 [==============================] - 2s 9ms/step - loss: 1.0195e-06 - val_loss: 4.6332e-05\n",
      "Epoch 53/120\n",
      "249/249 [==============================] - 2s 7ms/step - loss: 1.0380e-06 - val_loss: 4.5453e-05\n",
      "Epoch 54/120\n",
      "249/249 [==============================] - 2s 7ms/step - loss: 7.2571e-07 - val_loss: 4.7240e-05\n",
      "Epoch 55/120\n",
      "249/249 [==============================] - 2s 8ms/step - loss: 8.3402e-07 - val_loss: 4.4399e-05\n",
      "Epoch 56/120\n",
      "249/249 [==============================] - 2s 8ms/step - loss: 8.5721e-07 - val_loss: 4.5586e-05\n",
      "Epoch 57/120\n",
      "249/249 [==============================] - 2s 7ms/step - loss: 6.4559e-07 - val_loss: 4.8922e-05\n",
      "Epoch 58/120\n",
      "249/249 [==============================] - 2s 7ms/step - loss: 7.4304e-07 - val_loss: 4.5962e-05\n",
      "Epoch 59/120\n",
      "249/249 [==============================] - 2s 7ms/step - loss: 7.3959e-07 - val_loss: 4.6766e-05\n",
      "Epoch 60/120\n",
      "249/249 [==============================] - 2s 7ms/step - loss: 1.1226e-06 - val_loss: 6.1593e-05\n",
      "Epoch 61/120\n",
      "249/249 [==============================] - 2s 7ms/step - loss: 7.9567e-07 - val_loss: 5.5839e-05\n",
      "Epoch 62/120\n",
      "249/249 [==============================] - 2s 7ms/step - loss: 7.2040e-07 - val_loss: 4.4301e-05\n",
      "Epoch 63/120\n",
      "249/249 [==============================] - 2s 7ms/step - loss: 6.3851e-07 - val_loss: 4.6234e-05\n",
      "Epoch 64/120\n",
      "249/249 [==============================] - 2s 6ms/step - loss: 6.7170e-07 - val_loss: 5.4793e-05\n",
      "Epoch 65/120\n",
      "249/249 [==============================] - 2s 6ms/step - loss: 6.3521e-07 - val_loss: 5.1062e-05\n",
      "Epoch 66/120\n",
      "249/249 [==============================] - 2s 6ms/step - loss: 6.7866e-07 - val_loss: 5.0472e-05\n",
      "Epoch 67/120\n",
      "249/249 [==============================] - 2s 6ms/step - loss: 5.5145e-07 - val_loss: 4.8853e-05\n",
      "Epoch 68/120\n",
      "249/249 [==============================] - 2s 7ms/step - loss: 6.7112e-07 - val_loss: 4.3397e-05\n",
      "Epoch 69/120\n",
      "249/249 [==============================] - 2s 7ms/step - loss: 5.8596e-07 - val_loss: 4.3600e-05\n",
      "Epoch 70/120\n",
      "249/249 [==============================] - 2s 7ms/step - loss: 5.9554e-07 - val_loss: 4.5160e-05\n",
      "Epoch 71/120\n",
      "249/249 [==============================] - 2s 7ms/step - loss: 6.5328e-07 - val_loss: 4.4485e-05\n",
      "Epoch 72/120\n",
      "249/249 [==============================] - 2s 6ms/step - loss: 5.6802e-07 - val_loss: 4.5562e-05\n",
      "Epoch 73/120\n",
      "249/249 [==============================] - 2s 7ms/step - loss: 6.6877e-07 - val_loss: 4.5139e-05\n",
      "Epoch 74/120\n",
      "249/249 [==============================] - 2s 6ms/step - loss: 5.6948e-07 - val_loss: 4.4598e-05\n",
      "Epoch 75/120\n",
      "249/249 [==============================] - 2s 6ms/step - loss: 5.5836e-07 - val_loss: 4.6311e-05\n",
      "Epoch 76/120\n",
      "249/249 [==============================] - 2s 7ms/step - loss: 6.4293e-07 - val_loss: 4.6378e-05\n",
      "Epoch 77/120\n",
      "249/249 [==============================] - 2s 7ms/step - loss: 5.7425e-07 - val_loss: 4.4031e-05\n",
      "Epoch 78/120\n",
      "249/249 [==============================] - 2s 7ms/step - loss: 8.8440e-07 - val_loss: 4.5343e-05\n",
      "Epoch 79/120\n",
      "249/249 [==============================] - 2s 7ms/step - loss: 4.7291e-07 - val_loss: 4.4734e-05\n",
      "Epoch 80/120\n",
      "249/249 [==============================] - 2s 7ms/step - loss: 5.7913e-07 - val_loss: 4.4314e-05\n",
      "Epoch 81/120\n",
      "249/249 [==============================] - 2s 7ms/step - loss: 4.8014e-07 - val_loss: 4.5136e-05\n",
      "Epoch 82/120\n",
      "249/249 [==============================] - 2s 7ms/step - loss: 5.5208e-07 - val_loss: 5.1406e-05\n",
      "Epoch 83/120\n",
      "249/249 [==============================] - 2s 7ms/step - loss: 3.5302e-07 - val_loss: 4.5112e-05\n"
     ]
    }
   ],
   "source": [
    "history = regressor.fit(X_train, y_train, validation_data = (X_val, y_val), batch_size = batch_size, epochs = epochs, callbacks=[callback])"
   ]
  },
  {
   "cell_type": "markdown",
   "metadata": {},
   "source": [
    "# Evaluation"
   ]
  },
  {
   "cell_type": "code",
   "execution_count": 16,
   "metadata": {},
   "outputs": [
    {
     "name": "stdout",
     "output_type": "stream",
     "text": [
      "22/22 [==============================] - 1s 4ms/step\n"
     ]
    }
   ],
   "source": [
    "y_pred = regressor.predict(X_test) # make the prediction"
   ]
  },
  {
   "cell_type": "code",
   "execution_count": 17,
   "metadata": {},
   "outputs": [
    {
     "data": {
      "image/png": "[encoded data removed]",
      "text/plain": [
       "<Figure size 432x288 with 1 Axes>"
      ]
     },
     "metadata": {
      "needs_background": "light"
     },
     "output_type": "display_data"
    }
   ],
   "source": [
    "plt.plot(history.history['loss']) # Let's check that the loss converges\n",
    "plt.plot(history.history['val_loss'])\n",
    "plt.title('model loss')\n",
    "plt.ylabel('loss')\n",
    "plt.xlabel('epoch')\n",
    "plt.legend(['train', 'val'], loc='upper left')\n",
    "plt.show()"
   ]
  },
  {
   "cell_type": "code",
   "execution_count": 18,
   "metadata": {},
   "outputs": [
    {
     "name": "stdout",
     "output_type": "stream",
     "text": [
      "rmse score :  464.6577124139808\n"
     ]
    }
   ],
   "source": [
    "# compute rmse for test\n",
    "y_pred_inverse = scaler.inverse_transform(np.concatenate([y_pred, data_test[-len(y_pred):,1:]], axis=1))\n",
    "y_test_inverse = scaler.inverse_transform(data_test.reshape(-1,len(columns)))[rnn_size:]\n",
    "if add_log_functions:\n",
    "    y_pred_inverse = np.exp(y_pred_inverse)\n",
    "    y_test_inverse = np.exp(y_test_inverse)\n",
    "rmse_score = np.sqrt(np.square(np.subtract(y_pred_inverse, y_test_inverse)).mean())\n",
    "print(\"rmse score : \", rmse_score)\n"
   ]
  },
  {
   "cell_type": "code",
   "execution_count": 19,
   "metadata": {},
   "outputs": [
    {
     "data": {
      "image/png": "[encoded data removed]",
      "text/plain": [
       "<Figure size 432x288 with 1 Axes>"
      ]
     },
     "metadata": {
      "needs_background": "light"
     },
     "output_type": "display_data"
    }
   ],
   "source": [
    "#Graphs for predicted values\n",
    "t0, t1 = 0, 800\n",
    "plt.plot(y_test_inverse[:,0][t0:t1], color = 'red', label = 'true BTC price')\n",
    "plt.plot(y_pred_inverse[:,0][t0:t1], color = 'blue', label = 'predicted BTC price')\n",
    "plt.title('BTC price Prediction')\n",
    "plt.xlabel('Days')\n",
    "plt.ylabel('BTC price')\n",
    "plt.legend()\n",
    "plt.show()"
   ]
  },
  {
   "cell_type": "markdown",
   "metadata": {},
   "source": [
    "# Performances\n"
   ]
  },
  {
   "cell_type": "markdown",
   "metadata": {},
   "source": [
    "### Multi_pred permet de moyenner les prédictions de différents modèles pour tenter de gagner en précision "
   ]
  },
  {
   "cell_type": "code",
   "execution_count": 20,
   "metadata": {},
   "outputs": [],
   "source": [
    "def multi_pred(models, X_test):\n",
    "    predictions = []\n",
    "    for m in models:\n",
    "        y = m.predict(X_test)\n",
    "        predictions.append(scaler.inverse_transform(np.concatenate([y, data_test[-len(y):,1:]], axis=1)))\n",
    "    predictions = np.array(predictions)\n",
    "    return np.mean(predictions, axis=0)"
   ]
  },
  {
   "cell_type": "code",
   "execution_count": 21,
   "metadata": {},
   "outputs": [
    {
     "name": "stdout",
     "output_type": "stream",
     "text": [
      "22/22 [==============================] - 0s 3ms/step\n"
     ]
    }
   ],
   "source": [
    "y_mean_pred_inverse = multi_pred([regressor], X_test) # Ici un seul modèle lui est donné (celui que l'on vient d'entrainer)\n",
    "y_test_inverse = scaler.inverse_transform(data_test.reshape(-1,len(columns)))[rnn_size:]"
   ]
  },
  {
   "cell_type": "markdown",
   "metadata": {},
   "source": [
    "# Long/Short signals 1"
   ]
  },
  {
   "cell_type": "markdown",
   "metadata": {},
   "source": [
    "### action_vect1 permet de renvoyer l'action choisie au jour i : 1 = on achète, -1 = on vend, 0 = on ne fait rien\n",
    "\n",
    "en particulier, cette fonction prend en compte le retard de nos modèles par rapport au cours réel"
   ]
  },
  {
   "cell_type": "code",
   "execution_count": 22,
   "metadata": {},
   "outputs": [],
   "source": [
    "thr, lag = 25, 10\n",
    "pred, true = y_mean_pred_inverse[:,0], y_test_inverse[:,0]\n",
    "\n",
    "def act_vect1(thr, lag):\n",
    "    action = lag*[0]\n",
    "    for i in range(lag, len(pred)):\n",
    "        if pred[i] + thr < true[i] and all(pred[j] > thr +true[j] for j in range(i-lag, i)):\n",
    "            action.append(1)\n",
    "        elif pred[i] > thr + true[i] and all(pred[j] + thr < true[j] for j in range(i-lag, i)):\n",
    "            action.append(-1)\n",
    "        else:\n",
    "            action.append(0)\n",
    "    return action\n",
    "\n",
    "action1, action2, action3, action4 = act_vect1(0, 1), act_vect1(thr, 1), act_vect1(0, lag), act_vect1(thr, lag)\n",
    "\n",
    "def scatters(act): # retourne les points à placer sur la courbe, les différents indicateurs d'achat ou de vente\n",
    "    buy_ax, buy_ord, sell_ax, sell_ord = [], [], [], []\n",
    "    lag = len(true) - len(act)\n",
    "    for i in range(len(act)):\n",
    "        if act[i] == 1:\n",
    "            buy_ax.append(i + lag), buy_ord.append(true[i + lag])\n",
    "        if act[i] == -1:\n",
    "            sell_ax.append(i + lag), sell_ord.append(true[i + lag])\n",
    "    return buy_ax, buy_ord, sell_ax, sell_ord"
   ]
  },
  {
   "cell_type": "code",
   "execution_count": 23,
   "metadata": {},
   "outputs": [
    {
     "data": {
      "image/png": "[encoded data removed]",
      "text/plain": [
       "<Figure size 432x288 with 1 Axes>"
      ]
     },
     "metadata": {
      "needs_background": "light"
     },
     "output_type": "display_data"
    }
   ],
   "source": [
    "buy_ax, buy_ord, sell_ax, sell_ord = scatters(action4)\n",
    "\n",
    "plt.plot(y_test_inverse[:,0], color = 'blue', label = 'true BTC price', linewidth=.2)\n",
    "# plt.plot(y_pred_inverse[:,0], color = 'blue', label = 'predicted BTC price')\n",
    "plt.scatter(buy_ax, buy_ord, label = 'Long', marker=\"^\", c=\"green\", s=10)\n",
    "plt.scatter(sell_ax, sell_ord, label = 'Short', marker=\"v\", c=\"red\", s=10)\n",
    "plt.title('Strat 4')\n",
    "plt.xlabel('Days')\n",
    "plt.ylabel('BTC price')\n",
    "plt.legend()\n",
    "plt.show()"
   ]
  },
  {
   "cell_type": "code",
   "execution_count": 24,
   "metadata": {},
   "outputs": [],
   "source": [
    "capital = 10000 # en dollars"
   ]
  },
  {
   "cell_type": "code",
   "execution_count": 25,
   "metadata": {},
   "outputs": [],
   "source": [
    "##\n",
    "def choice_t(pred, last_price, thr): #permet de renvoyer l'action choisie au jour i : 1 = on achète, -1 = on vend, 0 = on ne fait rien\n",
    "\n",
    "    '''\n",
    "    - pred : float coresponding to the expected value of the price at time t+1\n",
    "\n",
    "    - float : price at time t  \n",
    "\n",
    "    - thr : threshold determining what action we decide\n",
    "    \n",
    "    '''\n",
    "\n",
    "    diff = pred - last_price\n",
    "\n",
    "    if abs(diff) < thr:\n",
    "        return 0\n",
    "\n",
    "    else:\n",
    "        return np.sign(diff)"
   ]
  },
  {
   "cell_type": "code",
   "execution_count": 26,
   "metadata": {},
   "outputs": [],
   "source": [
    "def evolution3(t1, t2, pred, price, capital_init, frac_b, frac_s, thr): # Autre stratégie, utilisée pour des modèles plus précis\n",
    "    capital = [capital_init]\n",
    "    history = [0]\n",
    "    btc = [0]\n",
    "    for t in range(t1,t2+1):\n",
    "        choice = choice_t(pred[t+1], price[t], thr)\n",
    "        if choice == 0:\n",
    "            history.append(0)\n",
    "            capital.append(capital[-1])\n",
    "            btc.append(btc[-1])\n",
    "        if choice == 1:\n",
    "            history.append(1)\n",
    "            capital.append(capital[-1]*(1-frac_b))\n",
    "            btc.append(capital[-2]*frac_b/price[t]+btc[-1])\n",
    "        if choice == -1:\n",
    "            history.append(-1)\n",
    "            btc.append((1-frac_s)*btc[-1])\n",
    "            capital.append(capital[-1]+frac_s*btc[-2]*price[t])\n",
    "\n",
    "    return history, capital, btc\n",
    "            \n",
    "\n"
   ]
  },
  {
   "cell_type": "code",
   "execution_count": 27,
   "metadata": {},
   "outputs": [],
   "source": [
    "thr = 500 # seuil de décision"
   ]
  },
  {
   "cell_type": "code",
   "execution_count": 28,
   "metadata": {},
   "outputs": [],
   "source": [
    "pred = y_pred_inverse[:,0]\n",
    "true = y_test_inverse[:,0]"
   ]
  },
  {
   "cell_type": "code",
   "execution_count": 29,
   "metadata": {},
   "outputs": [],
   "source": [
    "hist, cap, btc =evolution3(0,600, pred, true, 10000, 0.3, 0.5, thr)"
   ]
  },
  {
   "cell_type": "code",
   "execution_count": 30,
   "metadata": {},
   "outputs": [
    {
     "data": {
      "text/plain": [
       "[<matplotlib.lines.Line2D at 0x7fd90b8dd340>]"
      ]
     },
     "execution_count": 30,
     "metadata": {},
     "output_type": "execute_result"
    },
    {
     "data": {
      "image/png": "[encoded data removed]",
      "text/plain": [
       "<Figure size 432x288 with 1 Axes>"
      ]
     },
     "metadata": {
      "needs_background": "light"
     },
     "output_type": "display_data"
    }
   ],
   "source": [
    "plt.plot(hist)\n",
    "plt.xlabel('time')\n",
    "plt.ylabel('choix d achat ou de vente')"
   ]
  },
  {
   "cell_type": "code",
   "execution_count": 31,
   "metadata": {},
   "outputs": [
    {
     "data": {
      "text/plain": [
       "[<matplotlib.lines.Line2D at 0x7fd90c8b3b50>]"
      ]
     },
     "execution_count": 31,
     "metadata": {},
     "output_type": "execute_result"
    },
    {
     "data": {
      "image/png": "[encoded data removed]",
      "text/plain": [
       "<Figure size 432x288 with 1 Axes>"
      ]
     },
     "metadata": {
      "needs_background": "light"
     },
     "output_type": "display_data"
    }
   ],
   "source": [
    "plt.plot(cap)\n",
    "plt.xlabel('time')\n",
    "plt.ylabel('Capital')"
   ]
  },
  {
   "cell_type": "code",
   "execution_count": 32,
   "metadata": {},
   "outputs": [
    {
     "data": {
      "text/plain": [
       "[<matplotlib.lines.Line2D at 0x7fd90bc05130>]"
      ]
     },
     "execution_count": 32,
     "metadata": {},
     "output_type": "execute_result"
    },
    {
     "data": {
      "image/png": "[encoded data removed]",
      "text/plain": [
       "<Figure size 432x288 with 1 Axes>"
      ]
     },
     "metadata": {
      "needs_background": "light"
     },
     "output_type": "display_data"
    }
   ],
   "source": [
    "plt.plot(btc)\n",
    "plt.xlabel('time')\n",
    "plt.ylabel('Nombre de bitcoins')"
   ]
  },
  {
   "cell_type": "code",
   "execution_count": 38,
   "metadata": {},
   "outputs": [
    {
     "name": "stdout",
     "output_type": "stream",
     "text": [
      "Nous avons a la fin de la prédiction obtenu : 38480.31 $\n"
     ]
    }
   ],
   "source": [
    "total = btc[-1]*true[50] + cap[-1] # calcul de la valorisation de notre porte feuille à la fin de la fenêtre de prédiction\n",
    "print(f'Nous avons a la fin de la prédiction obtenu : {round(total, 2)} $')"
   ]
  }
 ],
 "metadata": {
  "interpreter": {
   "hash": "40d3a090f54c6569ab1632332b64b2c03c39dcf918b08424e98f38b5ae0af88f"
  },
  "kernelspec": {
   "display_name": "Python 3.8.3 ('base')",
   "language": "python",
   "name": "python3"
  },
  "language_info": {
   "codemirror_mode": {
    "name": "ipython",
    "version": 3
   },
   "file_extension": ".py",
   "mimetype": "text/x-python",
   "name": "python",
   "nbconvert_exporter": "python",
   "pygments_lexer": "ipython3",
   "version": "3.8.3"
  },
  "orig_nbformat": 4
 },
 "nbformat": 4,
 "nbformat_minor": 2
}
