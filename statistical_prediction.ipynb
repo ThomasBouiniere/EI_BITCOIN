{
  "cells": [
    {
      "cell_type": "markdown",
      "metadata": {
        "id": "4QDi3-45S6FV"
      },
      "source": [
        "You started working in a financial institution. You manager Mark is insterested in investing and trading **Bitcoin** to diversify his portfolio. So he turned to you to develop a crypto trading bot.\n",
        "\n",
        "A **crypto trading bot** is a computer program with an underlying predictive model that automatically outputs a predicted day to day price for the next 30 days based on the history of Bitcoin market price and Blockchain variables. \n",
        "\n",
        "Your mission is to train an accurate predictive model with the lowest mean squared error. Mark is a very technical guy, he likes to understand all **technical details** and would like you to **compare the performances of classical models and neural-net based models**.\n",
        "\n",
        "Your **target variable** is the Bitcoin Market price.\n",
        "\n",
        "**Data source** : https://blockchain.info/"
      ]
    },
    {
      "cell_type": "markdown",
      "metadata": {
        "id": "1XRB3MylS6E4"
      },
      "source": [
        "# Your mission"
      ]
    },
    {
      "cell_type": "markdown",
      "metadata": {
        "id": "k-5WIkZV5yNT"
      },
      "source": [
        "You started working in a financial institution. You manager Mark is insterested in investing and trading **Bitcoin** to diversify his portfolio. So he turned to you to develop a crypto trading bot.\n",
        "\n",
        "A **crypto trading bot** is a computer program with an underlying predictive model that automatically outputs a predicted day to day price for the next 30 days based on the history of Bitcoin market price and Blockchain variables. \n",
        "\n",
        "Your mission is to train an accurate predictive model with the lowest mean squared error. Mark is a very technical guy, he likes to understand all **technical details** and would like you to **compare the performances of classical models and neural-net based models**.\n",
        "\n",
        "Your **target variable** is the Bitcoin Market price.\n",
        "\n",
        "**Data source** : https://blockchain.info/"
      ]
    },
    {
      "cell_type": "code",
      "execution_count": null,
      "metadata": {
        "colab": {
          "base_uri": "https://localhost:8080/"
        },
        "id": "k6FHM-9S5yNW",
        "outputId": "e7462295-9be7-43d6-c4b5-e6d69f5692e0"
      },
      "outputs": [
        {
          "name": "stderr",
          "output_type": "stream",
          "text": [
            "/usr/local/lib/python3.7/dist-packages/statsmodels/tools/_testing.py:19: FutureWarning: pandas.util.testing is deprecated. Use the functions in the public API at pandas.testing instead.\n",
            "  import pandas.util.testing as tm\n"
          ]
        }
      ],
      "source": [
        "import os\n",
        "import numpy as np\n",
        "import pandas as pd\n",
        "import matplotlib.pylab as plt\n",
        "import seaborn as sns\n",
        "from statsmodels.graphics.tsaplots import plot_acf, plot_pacf\n",
        "from statsmodels.tsa.stattools import adfuller\n",
        "from sklearn.metrics import mean_squared_error\n",
        "import helper_functions as hf\n",
        "\n",
        "CURDIR = os.getcwd()\n",
        "DATADIR = os.path.join(CURDIR,  \"data\")\n",
        "%matplotlib inline"
      ]
    },
    {
      "cell_type": "markdown",
      "metadata": {
        "id": "pMG4T6rF5yNW"
      },
      "source": [
        "# Data Exploration and analysis"
      ]
    },
    {
      "cell_type": "markdown",
      "metadata": {
        "id": "F7XYd4jF5yNX"
      },
      "source": [
        "In this section, you are to explore the data. You are to fulfill the following tasks:\n",
        "- **Univariate analysis**\n",
        "    - study the Bitcoin market price time series, in terms of its trend, cycle, seasonality, and stationnarity \n",
        "    - **Tips**: you can analyse ACF, PACF plots, perform Augmented Dickey-Fuller test\n",
        "- **Multivariate analysis**\n",
        "    - study other blockchain variables, retrieve insights\n",
        "    - study the correlation between the Bitcoin market price and other blockchain variables \n",
        "    - **Tips**: Pearson correlation"
      ]
    },
    {
      "cell_type": "code",
      "execution_count": null,
      "metadata": {
        "id": "PqE3Oi6G5yNY"
      },
      "outputs": [],
      "source": [
        "df_blockchain = pd.read_csv(os.path.join(DATADIR, \"df_blockchain.csv\"), \n",
        "                            delimiter=\",\")\n"
      ]
    },
    {
      "cell_type": "code",
      "execution_count": null,
      "metadata": {
        "colab": {
          "base_uri": "https://localhost:8080/",
          "height": 525
        },
        "id": "o7nEj8G75yNY",
        "outputId": "c94ebc24-7395-460d-b2df-7757793893eb",
        "scrolled": true
      },
      "outputs": [
        {
          "data": {
            "text/html": [
              "\n",
              "  <div id=\"df-d45043c0-6a4e-4130-872b-c862621bcd02\">\n",
              "    <div class=\"colab-df-container\">\n",
              "      <div>\n",
              "<style scoped>\n",
              "    .dataframe tbody tr th:only-of-type {\n",
              "        vertical-align: middle;\n",
              "    }\n",
              "\n",
              "    .dataframe tbody tr th {\n",
              "        vertical-align: top;\n",
              "    }\n",
              "\n",
              "    .dataframe thead th {\n",
              "        text-align: right;\n",
              "    }\n",
              "</style>\n",
              "<table border=\"1\" class=\"dataframe\">\n",
              "  <thead>\n",
              "    <tr style=\"text-align: right;\">\n",
              "      <th></th>\n",
              "      <th>Date</th>\n",
              "      <th>market-price</th>\n",
              "      <th>n-transactions-per-block</th>\n",
              "      <th>median-confirmation-time</th>\n",
              "      <th>hash-rate</th>\n",
              "      <th>difficulty</th>\n",
              "      <th>miners-revenue</th>\n",
              "      <th>trade-volume</th>\n",
              "      <th>blocks-size</th>\n",
              "      <th>avg-block-size</th>\n",
              "      <th>...</th>\n",
              "      <th>cost-per-transaction</th>\n",
              "      <th>n-unique-addresses</th>\n",
              "      <th>n-transactions</th>\n",
              "      <th>n-transactions-total</th>\n",
              "      <th>n-transactions-excluding-popular</th>\n",
              "      <th>output-volume</th>\n",
              "      <th>estimated-transaction-volume</th>\n",
              "      <th>estimated-transaction-volume-usd</th>\n",
              "      <th>total-bitcoins</th>\n",
              "      <th>market-cap</th>\n",
              "    </tr>\n",
              "  </thead>\n",
              "  <tbody>\n",
              "    <tr>\n",
              "      <th>0</th>\n",
              "      <td>2011-09-13</td>\n",
              "      <td>6.88</td>\n",
              "      <td>45.908451</td>\n",
              "      <td>0.0</td>\n",
              "      <td>12.018816</td>\n",
              "      <td>1.777774e+06</td>\n",
              "      <td>52318.011503</td>\n",
              "      <td>0.0</td>\n",
              "      <td>592.190091</td>\n",
              "      <td>0.019009</td>\n",
              "      <td>...</td>\n",
              "      <td>7.666766</td>\n",
              "      <td>12622.0</td>\n",
              "      <td>6519.0</td>\n",
              "      <td>1497195.0</td>\n",
              "      <td>6519.0</td>\n",
              "      <td>358543.612114</td>\n",
              "      <td>58615.641320</td>\n",
              "      <td>403275.612279</td>\n",
              "      <td>7.257416e+06</td>\n",
              "      <td>5.022014e+07</td>\n",
              "    </tr>\n",
              "    <tr>\n",
              "      <th>1</th>\n",
              "      <td>2011-09-14</td>\n",
              "      <td>6.19</td>\n",
              "      <td>42.465753</td>\n",
              "      <td>0.0</td>\n",
              "      <td>13.263925</td>\n",
              "      <td>1.755425e+06</td>\n",
              "      <td>48306.468911</td>\n",
              "      <td>0.0</td>\n",
              "      <td>594.907367</td>\n",
              "      <td>0.018007</td>\n",
              "      <td>...</td>\n",
              "      <td>7.369408</td>\n",
              "      <td>12408.0</td>\n",
              "      <td>6200.0</td>\n",
              "      <td>1503780.0</td>\n",
              "      <td>6200.0</td>\n",
              "      <td>302619.024544</td>\n",
              "      <td>74521.484625</td>\n",
              "      <td>461287.989830</td>\n",
              "      <td>7.264662e+06</td>\n",
              "      <td>4.540930e+07</td>\n",
              "    </tr>\n",
              "    <tr>\n",
              "      <th>2</th>\n",
              "      <td>2011-09-15</td>\n",
              "      <td>5.92</td>\n",
              "      <td>41.500000</td>\n",
              "      <td>0.0</td>\n",
              "      <td>12.914875</td>\n",
              "      <td>1.755425e+06</td>\n",
              "      <td>60431.444952</td>\n",
              "      <td>0.0</td>\n",
              "      <td>597.554226</td>\n",
              "      <td>0.018240</td>\n",
              "      <td>...</td>\n",
              "      <td>7.333913</td>\n",
              "      <td>12988.0</td>\n",
              "      <td>6474.0</td>\n",
              "      <td>1509972.0</td>\n",
              "      <td>6474.0</td>\n",
              "      <td>299226.130646</td>\n",
              "      <td>79422.402932</td>\n",
              "      <td>470180.625359</td>\n",
              "      <td>7.272284e+06</td>\n",
              "      <td>4.322228e+07</td>\n",
              "    </tr>\n",
              "    <tr>\n",
              "      <th>3</th>\n",
              "      <td>2011-09-16</td>\n",
              "      <td>5.58</td>\n",
              "      <td>52.176471</td>\n",
              "      <td>0.0</td>\n",
              "      <td>10.995096</td>\n",
              "      <td>1.755425e+06</td>\n",
              "      <td>34345.021913</td>\n",
              "      <td>0.0</td>\n",
              "      <td>600.362512</td>\n",
              "      <td>0.022136</td>\n",
              "      <td>...</td>\n",
              "      <td>5.466341</td>\n",
              "      <td>12059.0</td>\n",
              "      <td>6209.0</td>\n",
              "      <td>1516381.0</td>\n",
              "      <td>6209.0</td>\n",
              "      <td>674606.861338</td>\n",
              "      <td>82696.853247</td>\n",
              "      <td>461448.441118</td>\n",
              "      <td>7.279040e+06</td>\n",
              "      <td>4.088136e+07</td>\n",
              "    </tr>\n",
              "    <tr>\n",
              "      <th>4</th>\n",
              "      <td>2011-09-17</td>\n",
              "      <td>5.18</td>\n",
              "      <td>40.701493</td>\n",
              "      <td>0.0</td>\n",
              "      <td>10.733308</td>\n",
              "      <td>1.755425e+06</td>\n",
              "      <td>36805.913687</td>\n",
              "      <td>0.0</td>\n",
              "      <td>602.995510</td>\n",
              "      <td>0.017116</td>\n",
              "      <td>...</td>\n",
              "      <td>6.489054</td>\n",
              "      <td>10988.0</td>\n",
              "      <td>5454.0</td>\n",
              "      <td>1522600.0</td>\n",
              "      <td>5454.0</td>\n",
              "      <td>354198.945778</td>\n",
              "      <td>68238.166521</td>\n",
              "      <td>353473.702578</td>\n",
              "      <td>7.285375e+06</td>\n",
              "      <td>3.801833e+07</td>\n",
              "    </tr>\n",
              "  </tbody>\n",
              "</table>\n",
              "<p>5 rows × 23 columns</p>\n",
              "</div>\n",
              "      <button class=\"colab-df-convert\" onclick=\"convertToInteractive('df-d45043c0-6a4e-4130-872b-c862621bcd02')\"\n",
              "              title=\"Convert this dataframe to an interactive table.\"\n",
              "              style=\"display:none;\">\n",
              "        \n",
              "  <svg xmlns=\"http://www.w3.org/2000/svg\" height=\"24px\"viewBox=\"0 0 24 24\"\n",
              "       width=\"24px\">\n",
              "    <path d=\"M0 0h24v24H0V0z\" fill=\"none\"/>\n",
              "    <path d=\"M18.56 5.44l.94 2.06.94-2.06 2.06-.94-2.06-.94-.94-2.06-.94 2.06-2.06.94zm-11 1L8.5 8.5l.94-2.06 2.06-.94-2.06-.94L8.5 2.5l-.94 2.06-2.06.94zm10 10l.94 2.06.94-2.06 2.06-.94-2.06-.94-.94-2.06-.94 2.06-2.06.94z\"/><path d=\"M17.41 7.96l-1.37-1.37c-.4-.4-.92-.59-1.43-.59-.52 0-1.04.2-1.43.59L10.3 9.45l-7.72 7.72c-.78.78-.78 2.05 0 2.83L4 21.41c.39.39.9.59 1.41.59.51 0 1.02-.2 1.41-.59l7.78-7.78 2.81-2.81c.8-.78.8-2.07 0-2.86zM5.41 20L4 18.59l7.72-7.72 1.47 1.35L5.41 20z\"/>\n",
              "  </svg>\n",
              "      </button>\n",
              "      \n",
              "  <style>\n",
              "    .colab-df-container {\n",
              "      display:flex;\n",
              "      flex-wrap:wrap;\n",
              "      gap: 12px;\n",
              "    }\n",
              "\n",
              "    .colab-df-convert {\n",
              "      background-color: #E8F0FE;\n",
              "      border: none;\n",
              "      border-radius: 50%;\n",
              "      cursor: pointer;\n",
              "      display: none;\n",
              "      fill: #1967D2;\n",
              "      height: 32px;\n",
              "      padding: 0 0 0 0;\n",
              "      width: 32px;\n",
              "    }\n",
              "\n",
              "    .colab-df-convert:hover {\n",
              "      background-color: #E2EBFA;\n",
              "      box-shadow: 0px 1px 2px rgba(60, 64, 67, 0.3), 0px 1px 3px 1px rgba(60, 64, 67, 0.15);\n",
              "      fill: #174EA6;\n",
              "    }\n",
              "\n",
              "    [theme=dark] .colab-df-convert {\n",
              "      background-color: #3B4455;\n",
              "      fill: #D2E3FC;\n",
              "    }\n",
              "\n",
              "    [theme=dark] .colab-df-convert:hover {\n",
              "      background-color: #434B5C;\n",
              "      box-shadow: 0px 1px 3px 1px rgba(0, 0, 0, 0.15);\n",
              "      filter: drop-shadow(0px 1px 2px rgba(0, 0, 0, 0.3));\n",
              "      fill: #FFFFFF;\n",
              "    }\n",
              "  </style>\n",
              "\n",
              "      <script>\n",
              "        const buttonEl =\n",
              "          document.querySelector('#df-d45043c0-6a4e-4130-872b-c862621bcd02 button.colab-df-convert');\n",
              "        buttonEl.style.display =\n",
              "          google.colab.kernel.accessAllowed ? 'block' : 'none';\n",
              "\n",
              "        async function convertToInteractive(key) {\n",
              "          const element = document.querySelector('#df-d45043c0-6a4e-4130-872b-c862621bcd02');\n",
              "          const dataTable =\n",
              "            await google.colab.kernel.invokeFunction('convertToInteractive',\n",
              "                                                     [key], {});\n",
              "          if (!dataTable) return;\n",
              "\n",
              "          const docLinkHtml = 'Like what you see? Visit the ' +\n",
              "            '<a target=\"_blank\" href=https://colab.research.google.com/notebooks/data_table.ipynb>data table notebook</a>'\n",
              "            + ' to learn more about interactive tables.';\n",
              "          element.innerHTML = '';\n",
              "          dataTable['output_type'] = 'display_data';\n",
              "          await google.colab.output.renderOutput(dataTable, element);\n",
              "          const docLink = document.createElement('div');\n",
              "          docLink.innerHTML = docLinkHtml;\n",
              "          element.appendChild(docLink);\n",
              "        }\n",
              "      </script>\n",
              "    </div>\n",
              "  </div>\n",
              "  "
            ],
            "text/plain": [
              "         Date  market-price  n-transactions-per-block  \\\n",
              "0  2011-09-13          6.88                 45.908451   \n",
              "1  2011-09-14          6.19                 42.465753   \n",
              "2  2011-09-15          5.92                 41.500000   \n",
              "3  2011-09-16          5.58                 52.176471   \n",
              "4  2011-09-17          5.18                 40.701493   \n",
              "\n",
              "   median-confirmation-time  hash-rate    difficulty  miners-revenue  \\\n",
              "0                       0.0  12.018816  1.777774e+06    52318.011503   \n",
              "1                       0.0  13.263925  1.755425e+06    48306.468911   \n",
              "2                       0.0  12.914875  1.755425e+06    60431.444952   \n",
              "3                       0.0  10.995096  1.755425e+06    34345.021913   \n",
              "4                       0.0  10.733308  1.755425e+06    36805.913687   \n",
              "\n",
              "   trade-volume  blocks-size  avg-block-size  ...  cost-per-transaction  \\\n",
              "0           0.0   592.190091        0.019009  ...              7.666766   \n",
              "1           0.0   594.907367        0.018007  ...              7.369408   \n",
              "2           0.0   597.554226        0.018240  ...              7.333913   \n",
              "3           0.0   600.362512        0.022136  ...              5.466341   \n",
              "4           0.0   602.995510        0.017116  ...              6.489054   \n",
              "\n",
              "   n-unique-addresses  n-transactions  n-transactions-total  \\\n",
              "0             12622.0          6519.0             1497195.0   \n",
              "1             12408.0          6200.0             1503780.0   \n",
              "2             12988.0          6474.0             1509972.0   \n",
              "3             12059.0          6209.0             1516381.0   \n",
              "4             10988.0          5454.0             1522600.0   \n",
              "\n",
              "   n-transactions-excluding-popular  output-volume  \\\n",
              "0                            6519.0  358543.612114   \n",
              "1                            6200.0  302619.024544   \n",
              "2                            6474.0  299226.130646   \n",
              "3                            6209.0  674606.861338   \n",
              "4                            5454.0  354198.945778   \n",
              "\n",
              "   estimated-transaction-volume  estimated-transaction-volume-usd  \\\n",
              "0                  58615.641320                     403275.612279   \n",
              "1                  74521.484625                     461287.989830   \n",
              "2                  79422.402932                     470180.625359   \n",
              "3                  82696.853247                     461448.441118   \n",
              "4                  68238.166521                     353473.702578   \n",
              "\n",
              "   total-bitcoins    market-cap  \n",
              "0    7.257416e+06  5.022014e+07  \n",
              "1    7.264662e+06  4.540930e+07  \n",
              "2    7.272284e+06  4.322228e+07  \n",
              "3    7.279040e+06  4.088136e+07  \n",
              "4    7.285375e+06  3.801833e+07  \n",
              "\n",
              "[5 rows x 23 columns]"
            ]
          },
          "execution_count": 36,
          "metadata": {},
          "output_type": "execute_result"
        }
      ],
      "source": [
        "df_blockchain.head()"
      ]
    },
    {
      "cell_type": "code",
      "execution_count": null,
      "metadata": {
        "colab": {
          "base_uri": "https://localhost:8080/"
        },
        "id": "03J5HDGc5yNZ",
        "outputId": "d3613b17-09a9-4bb6-9a45-97312cdbdbba"
      },
      "outputs": [
        {
          "data": {
            "text/plain": [
              "(23,)"
            ]
          },
          "execution_count": 37,
          "metadata": {},
          "output_type": "execute_result"
        }
      ],
      "source": [
        "df_blockchain.columns.sort_values().shape"
      ]
    },
    {
      "cell_type": "markdown",
      "metadata": {
        "id": "P-SLbaTQ5yNa"
      },
      "source": [
        "## Autocorrelaiton and Partial correlation"
      ]
    },
    {
      "cell_type": "code",
      "execution_count": null,
      "metadata": {
        "colab": {
          "base_uri": "https://localhost:8080/",
          "height": 284
        },
        "id": "2Dv0Ua8F5yNa",
        "outputId": "71283bdf-2373-46c3-bcbe-4697fe3a428c"
      },
      "outputs": [
        {
          "data": {
            "image/png": "[encoded data removed]",
            "text/plain": [
              "<Figure size 432x288 with 1 Axes>"
            ]
          },
          "metadata": {
            "needs_background": "light"
          },
          "output_type": "display_data"
        }
      ],
      "source": [
        "plot_acf(df_blockchain[\"market-price\"]);"
      ]
    },
    {
      "cell_type": "code",
      "execution_count": null,
      "metadata": {
        "colab": {
          "base_uri": "https://localhost:8080/",
          "height": 284
        },
        "id": "FzgTX3jn5yNb",
        "outputId": "b7f1942b-130c-49e8-ccd5-0635e1503efa"
      },
      "outputs": [
        {
          "data": {
            "image/png": "[encoded data removed]",
            "text/plain": [
              "<Figure size 432x288 with 1 Axes>"
            ]
          },
          "metadata": {
            "needs_background": "light"
          },
          "output_type": "display_data"
        }
      ],
      "source": [
        "plot_pacf(df_blockchain[\"market-price\"]);"
      ]
    },
    {
      "cell_type": "markdown",
      "metadata": {
        "id": "9hwPPC6bYcZi"
      },
      "source": [
        "## Multivariate analysis"
      ]
    },
    {
      "cell_type": "code",
      "execution_count": null,
      "metadata": {
        "id": "1ixjh0KpYTgr"
      },
      "outputs": [],
      "source": [
        "!pip install https://github.com/pandas-profiling/pandas-profiling/archive/master.zip"
      ]
    },
    {
      "cell_type": "code",
      "execution_count": null,
      "metadata": {
        "id": "i9bqViTAYWZ9"
      },
      "outputs": [],
      "source": [
        "from pandas_profiling import ProfileReport"
      ]
    },
    {
      "cell_type": "code",
      "execution_count": null,
      "metadata": {
        "id": "K5hFNknHYbi_"
      },
      "outputs": [],
      "source": [
        "profile = ProfileReport(df_blockchain, title='Bitcoin', html={'style':{'full_width':True}})\n",
        "profile"
      ]
    },
    {
      "cell_type": "markdown",
      "metadata": {
        "id": "D3Oihp8hYp57"
      },
      "source": [
        "## Univariate analysis study the Bitcoin market price time series, in terms of its trend, cycle, seasonality, and stationnarity"
      ]
    },
    {
      "cell_type": "code",
      "execution_count": null,
      "metadata": {
        "id": "NYTJTLvbYsdz"
      },
      "outputs": [],
      "source": [
        "df_marketprice=df_blockchain[['Date','market-price']]\n",
        "df_marketprice['market-price']=np.log(df_marketprice['market-price'])"
      ]
    },
    {
      "cell_type": "code",
      "execution_count": null,
      "metadata": {
        "id": "5n-WMqLeYxVh"
      },
      "outputs": [],
      "source": [
        "df_marketprice['Date']=pd.to_datetime(df_marketprice['Date'])"
      ]
    },
    {
      "cell_type": "code",
      "execution_count": null,
      "metadata": {
        "id": "cTqebeKLY0ji"
      },
      "outputs": [],
      "source": [
        "df_marketprice.isnull().sum()"
      ]
    },
    {
      "cell_type": "code",
      "execution_count": null,
      "metadata": {
        "id": "3haHKlYLY3Jc"
      },
      "outputs": [],
      "source": [
        "df_marketprice=df_marketprice.set_index('Date')"
      ]
    },
    {
      "cell_type": "code",
      "execution_count": null,
      "metadata": {
        "id": "hWm4MUvsY6MC"
      },
      "outputs": [],
      "source": [
        "df_marketprice.plot(grid=True,title='log market-price')"
      ]
    },
    {
      "cell_type": "markdown",
      "metadata": {
        "id": "Y7pbxVjOZc4a"
      },
      "source": [
        "### Seasonality"
      ]
    },
    {
      "cell_type": "markdown",
      "metadata": {
        "id": "1VrusedAZp55"
      },
      "source": [
        "#### Seasonality on a year"
      ]
    },
    {
      "cell_type": "code",
      "execution_count": null,
      "metadata": {
        "id": "aVxuf2qNZuNJ"
      },
      "outputs": [],
      "source": [
        "import matplotlib\n",
        "matplotlib.rcParams['figure.figsize']=[12.0,8.0]\n",
        "from datetime import datetime\n",
        "start_date=datetime(2020,1,1)\n",
        "end_date=datetime(2021,1,1)\n",
        "df_marketprice[(start_date<=df_marketprice.index) & (df_marketprice.index<=end_date)].plot(title='log-price over one year',grid=True)"
      ]
    },
    {
      "cell_type": "code",
      "execution_count": null,
      "metadata": {
        "id": "pxPWRm-oZxu7"
      },
      "outputs": [],
      "source": [
        "matplotlib.rcParams['figure.figsize']=[12.0,8.0]\n",
        "from datetime import datetime\n",
        "start_date=datetime(2019,1,1)\n",
        "end_date=datetime(2020,1,1)\n",
        "df_marketprice[(start_date<=df_marketprice.index) & (df_marketprice.index<=end_date)].plot(title='log-price over one year',grid=True)"
      ]
    },
    {
      "cell_type": "code",
      "execution_count": null,
      "metadata": {
        "id": "tXxnsVriZ86o"
      },
      "outputs": [],
      "source": [
        "matplotlib.rcParams['figure.figsize']=[12.0,8.0]\n",
        "from datetime import datetime\n",
        "start_date=datetime(2018,1,1)\n",
        "end_date=datetime(2019,1,1)\n",
        "df_marketprice[(start_date<=df_marketprice.index) & (df_marketprice.index<=end_date)].plot(title='log-price over one year',grid=True)"
      ]
    },
    {
      "cell_type": "markdown",
      "metadata": {
        "id": "Kcunbfo3aGGR"
      },
      "source": [
        "We don't observe any seasonality per year. We need to look if there is seasonality per month."
      ]
    },
    {
      "cell_type": "markdown",
      "metadata": {
        "id": "t_wKEDaYMzJC"
      },
      "source": [
        "#### Seasonality per month"
      ]
    },
    {
      "cell_type": "code",
      "execution_count": null,
      "metadata": {
        "id": "m4d96gUphH3b"
      },
      "outputs": [],
      "source": [
        "matplotlib.rcParams['figure.figsize']=[12.0,8.0]\n",
        "from datetime import datetime\n",
        "start_date=datetime(2021,1,1)\n",
        "end_date=datetime(2021,2,1)\n",
        "df_marketprice[(start_date<=df_marketprice.index) & (df_marketprice.index<=end_date)].plot(title='log-price over one MONTH',grid=True)"
      ]
    },
    {
      "cell_type": "code",
      "execution_count": null,
      "metadata": {
        "id": "vYOqsMpehRRL"
      },
      "outputs": [],
      "source": [
        "matplotlib.rcParams['figure.figsize']=[12.0,8.0]\n",
        "from datetime import datetime\n",
        "start_date=datetime(2021,2,1)\n",
        "end_date=datetime(2021,3,1)\n",
        "df_marketprice[(start_date<=df_marketprice.index) & (df_marketprice.index<=end_date)].plot(title='log-price over one month',grid=True)"
      ]
    },
    {
      "cell_type": "code",
      "execution_count": null,
      "metadata": {
        "id": "nUT58QkGhVKO"
      },
      "outputs": [],
      "source": [
        "matplotlib.rcParams['figure.figsize']=[12.0,8.0]\n",
        "from datetime import datetime\n",
        "start_date=datetime(2021,3,1)\n",
        "end_date=datetime(2021,4,1)\n",
        "df_marketprice[(start_date<=df_marketprice.index) & (df_marketprice.index<=end_date)].plot(title='log-price over one month',grid=True)"
      ]
    },
    {
      "cell_type": "markdown",
      "metadata": {
        "id": "C6N5RWWphaJs"
      },
      "source": [
        "We need to look for seasonality per week because there is no stationnarity per month."
      ]
    },
    {
      "cell_type": "markdown",
      "metadata": {
        "id": "rppPOONLM9cm"
      },
      "source": [
        "#### Seasonality per week"
      ]
    },
    {
      "cell_type": "code",
      "execution_count": null,
      "metadata": {
        "id": "aAvTlHYEhgwn"
      },
      "outputs": [],
      "source": [
        "matplotlib.rcParams['figure.figsize']=[12.0,8.0]\n",
        "from datetime import datetime\n",
        "start_date=datetime(2021,1,1)\n",
        "end_date=datetime(2021,1,7)\n",
        "df_marketprice[(start_date<=df_marketprice.index) & (df_marketprice.index<=end_date)].plot(title='log-price over one week',grid=True)"
      ]
    },
    {
      "cell_type": "code",
      "execution_count": null,
      "metadata": {
        "id": "tDRqQuAvh3xw"
      },
      "outputs": [],
      "source": [
        "matplotlib.rcParams['figure.figsize']=[12.0,8.0]\n",
        "from datetime import datetime\n",
        "start_date=datetime(2021,1,8)\n",
        "end_date=datetime(2021,1,15)\n",
        "df_marketprice[(start_date<=df_marketprice.index) & (df_marketprice.index<=end_date)].plot(title='log-price over one week',grid=True)"
      ]
    },
    {
      "cell_type": "code",
      "execution_count": null,
      "metadata": {
        "id": "WKdTX-SKh52O"
      },
      "outputs": [],
      "source": [
        "matplotlib.rcParams['figure.figsize']=[12.0,8.0]\n",
        "from datetime import datetime\n",
        "start_date=datetime(2021,1,16)\n",
        "end_date=datetime(2021,1,23)\n",
        "df_marketprice[(start_date<=df_marketprice.index) & (df_marketprice.index<=end_date)].plot(title='log-price over one week',grid=True)"
      ]
    },
    {
      "cell_type": "markdown",
      "metadata": {
        "id": "J1Vq8SESiCcy"
      },
      "source": [
        "There is no stationarity. We need to look for seasonality on a four days periods."
      ]
    },
    {
      "cell_type": "markdown",
      "metadata": {
        "id": "Syu-7fk7NEU7"
      },
      "source": [
        "#### Seasonality on a four days period"
      ]
    },
    {
      "cell_type": "code",
      "execution_count": null,
      "metadata": {
        "id": "LcqChtwyh-rU"
      },
      "outputs": [],
      "source": [
        "matplotlib.rcParams['figure.figsize']=[12.0,8.0]\n",
        "from datetime import datetime\n",
        "start_date=datetime(2021,1,1)\n",
        "end_date=datetime(2021,1,5)\n",
        "df_marketprice[(start_date<=df_marketprice.index) & (df_marketprice.index<=end_date)].plot(title='log-price over 4-day period',grid=True)"
      ]
    },
    {
      "cell_type": "code",
      "execution_count": null,
      "metadata": {
        "id": "h_4Ks-QbiWyB"
      },
      "outputs": [],
      "source": [
        "matplotlib.rcParams['figure.figsize']=[12.0,8.0]\n",
        "from datetime import datetime\n",
        "start_date=datetime(2021,1,6)\n",
        "end_date=datetime(2021,1,10)\n",
        "df_marketprice[(start_date<=df_marketprice.index) & (df_marketprice.index<=end_date)].plot(title='log-price over 4-day period',grid=True)"
      ]
    },
    {
      "cell_type": "code",
      "execution_count": null,
      "metadata": {
        "id": "Y4LREdybikru"
      },
      "outputs": [],
      "source": [
        "matplotlib.rcParams['figure.figsize']=[12.0,8.0]\n",
        "from datetime import datetime\n",
        "start_date=datetime(2021,1,11)\n",
        "end_date=datetime(2021,1,15)\n",
        "df_marketprice[(start_date<=df_marketprice.index) & (df_marketprice.index<=end_date)].plot(title='log-price over 4-day period',grid=True)"
      ]
    },
    {
      "cell_type": "code",
      "execution_count": null,
      "metadata": {
        "id": "Uj2z1BgmlcGT"
      },
      "outputs": [],
      "source": [
        "matplotlib.rcParams['figure.figsize']=[12.0,8.0]\n",
        "from datetime import datetime\n",
        "start_date=datetime(2021,1,16)\n",
        "end_date=datetime(2021,1,20)\n",
        "df_marketprice[(start_date<=df_marketprice.index) & (df_marketprice.index<=end_date)].plot(title='log-price over 4-day period',grid=True)"
      ]
    },
    {
      "cell_type": "code",
      "execution_count": null,
      "metadata": {
        "id": "DMpHErXRlht0"
      },
      "outputs": [],
      "source": [
        "import statsmodels.api as sm\n",
        "decomposition=sm.tsa.seasonal_decompose(df_marketprice.iloc[3440:3510,:],model='additive')\n",
        "fig=decomposition.plot()\n",
        "matplotlib.rcParams['figure.figsize']=[9.0, 5.0]"
      ]
    },
    {
      "cell_type": "code",
      "execution_count": null,
      "metadata": {
        "id": "vkABcRU8mfHM"
      },
      "outputs": [],
      "source": [
        "import matplotlib.pyplot as plt\n",
        "import matplotlib.dates as mdates\n",
        "fig, ax = plt.subplots()\n",
        "ax.grid(True)\n",
        "year = mdates.YearLocator(month=1)\n",
        "month = mdates.MonthLocator(interval=3)\n",
        "year_format = mdates.DateFormatter('%Y')\n",
        "month_format = mdates.DateFormatter('%m')\n",
        "ax.xaxis.set_minor_locator(month)\n",
        "ax.xaxis.grid(True, which = 'minor')\n",
        "ax.xaxis.set_major_locator(year)\n",
        "ax.xaxis.set_major_formatter(year_format)\n",
        "plt.plot(df_marketprice.index, df_marketprice['market-price'], c='blue')\n",
        "plt.plot(decomposition.trend.index, decomposition.trend, c='red')"
      ]
    },
    {
      "cell_type": "code",
      "execution_count": null,
      "metadata": {
        "id": "b5IrC7hsmkjU"
      },
      "outputs": [],
      "source": [
        "import statsmodels.api as sm\n",
        "decomposition=sm.tsa.seasonal_decompose(df_marketprice,model='multiplicative')\n",
        "fig=decomposition.plot()\n",
        "matplotlib.rcParams['figure.figsize']=[9.0, 5.0]"
      ]
    },
    {
      "cell_type": "code",
      "execution_count": null,
      "metadata": {
        "id": "03KDc-5-mw6s"
      },
      "outputs": [],
      "source": [
        "seasonality=decomposition.seasonal\n",
        "seasonality.plot(color='green')"
      ]
    },
    {
      "cell_type": "markdown",
      "metadata": {
        "id": "MtPfpoIcbLil"
      },
      "source": [
        "To conclude, we don't observe seasonality on Bitcoin. Since the market of Bitcoin is always open, it is coherent."
      ]
    },
    {
      "cell_type": "markdown",
      "metadata": {
        "id": "tZMsu1_nNYvk"
      },
      "source": [
        "### Stationnarity"
      ]
    },
    {
      "cell_type": "code",
      "execution_count": null,
      "metadata": {
        "id": "4sxm7EORm1nh"
      },
      "outputs": [],
      "source": [
        "from statsmodels.tsa.stattools import adfuller"
      ]
    },
    {
      "cell_type": "code",
      "execution_count": null,
      "metadata": {
        "id": "FrYNeqDenLqU"
      },
      "outputs": [],
      "source": [
        "adfuller(df_marketprice['market-price'])"
      ]
    },
    {
      "cell_type": "markdown",
      "metadata": {
        "id": "NhhTdviIm657"
      },
      "source": [
        "0,6>>0,05 thus the time series is not stationnary ( what we can see from the graph )"
      ]
    },
    {
      "cell_type": "markdown",
      "metadata": {
        "id": "6GnAU78kbzaG"
      },
      "source": [
        "## Rolling mean"
      ]
    },
    {
      "cell_type": "code",
      "execution_count": null,
      "metadata": {
        "id": "2ZxjQGthb6CV"
      },
      "outputs": [],
      "source": [
        "rolling_mean = df_marketprice.rolling(window = 30).mean()\n",
        "df_marketprice['rolling_mean_diff'] = rolling_mean - rolling_mean.shift()\n",
        "ax1 = plt.subplot()\n",
        "df_marketprice['rolling_mean_diff'].plot(title='after rolling mean & differencing');\n",
        "ax2 = plt.subplot()\n",
        "df_marketprice.plot(title='original')"
      ]
    },
    {
      "cell_type": "code",
      "execution_count": null,
      "metadata": {
        "id": "FrGZ6649b-A3"
      },
      "outputs": [],
      "source": [
        "df_marketprice=df_marketprice.dropna()"
      ]
    },
    {
      "cell_type": "code",
      "execution_count": null,
      "metadata": {
        "id": "pEgqhAJrcCtX"
      },
      "outputs": [],
      "source": [
        "adfuller(df_marketprice['rolling_mean_diff'])"
      ]
    },
    {
      "cell_type": "code",
      "execution_count": null,
      "metadata": {
        "id": "pxlvwbl-cE9l"
      },
      "outputs": [],
      "source": [
        "model=sm.tsa.statespace.SARIMAX(df_marketprice['rolling_mean_diff'],order=(1, 1, 1),seasonal_order=(1,1,1,30))\n",
        "results=model.fit()"
      ]
    },
    {
      "cell_type": "code",
      "execution_count": null,
      "metadata": {
        "id": "2LdGzs3ycJQa"
      },
      "outputs": [],
      "source": [
        "df_marketprice['forecast']=results.predict(start=3400,end=3544,dynamic=True)\n",
        "df_marketprice[['rolling_mean_diff','forecast']].plot(figsize=(12,8))"
      ]
    },
    {
      "cell_type": "markdown",
      "metadata": {
        "id": "3jFpzUbo5yNx"
      },
      "source": [
        "## Train test split"
      ]
    },
    {
      "cell_type": "code",
      "execution_count": null,
      "metadata": {
        "colab": {
          "base_uri": "https://localhost:8080/",
          "height": 713
        },
        "id": "sY2XZF1l5yNx",
        "outputId": "747d339e-6dd7-4059-af1b-302e82b0b087"
      },
      "outputs": [
        {
          "data": {
            "text/html": [
              "\n",
              "  <div id=\"df-3598dc0d-499b-475e-8f87-e72c63e04360\">\n",
              "    <div class=\"colab-df-container\">\n",
              "      <div>\n",
              "<style scoped>\n",
              "    .dataframe tbody tr th:only-of-type {\n",
              "        vertical-align: middle;\n",
              "    }\n",
              "\n",
              "    .dataframe tbody tr th {\n",
              "        vertical-align: top;\n",
              "    }\n",
              "\n",
              "    .dataframe thead th {\n",
              "        text-align: right;\n",
              "    }\n",
              "</style>\n",
              "<table border=\"1\" class=\"dataframe\">\n",
              "  <thead>\n",
              "    <tr style=\"text-align: right;\">\n",
              "      <th></th>\n",
              "      <th>Date</th>\n",
              "      <th>market-price</th>\n",
              "      <th>n-transactions-per-block</th>\n",
              "      <th>median-confirmation-time</th>\n",
              "      <th>hash-rate</th>\n",
              "      <th>difficulty</th>\n",
              "      <th>miners-revenue</th>\n",
              "      <th>trade-volume</th>\n",
              "      <th>blocks-size</th>\n",
              "      <th>avg-block-size</th>\n",
              "      <th>...</th>\n",
              "      <th>cost-per-transaction</th>\n",
              "      <th>n-unique-addresses</th>\n",
              "      <th>n-transactions</th>\n",
              "      <th>n-transactions-total</th>\n",
              "      <th>n-transactions-excluding-popular</th>\n",
              "      <th>output-volume</th>\n",
              "      <th>estimated-transaction-volume</th>\n",
              "      <th>estimated-transaction-volume-usd</th>\n",
              "      <th>total-bitcoins</th>\n",
              "      <th>market-cap</th>\n",
              "    </tr>\n",
              "  </thead>\n",
              "  <tbody>\n",
              "    <tr>\n",
              "      <th>0</th>\n",
              "      <td>2011-09-13</td>\n",
              "      <td>6.88</td>\n",
              "      <td>45.908451</td>\n",
              "      <td>0.000000</td>\n",
              "      <td>1.201882e+01</td>\n",
              "      <td>1.777774e+06</td>\n",
              "      <td>5.231801e+04</td>\n",
              "      <td>0.000000e+00</td>\n",
              "      <td>592.190091</td>\n",
              "      <td>0.019009</td>\n",
              "      <td>...</td>\n",
              "      <td>7.666766</td>\n",
              "      <td>12622.0</td>\n",
              "      <td>6519.0</td>\n",
              "      <td>1497195.0</td>\n",
              "      <td>6519.0</td>\n",
              "      <td>3.585436e+05</td>\n",
              "      <td>58615.641320</td>\n",
              "      <td>4.032756e+05</td>\n",
              "      <td>7.257416e+06</td>\n",
              "      <td>5.022014e+07</td>\n",
              "    </tr>\n",
              "    <tr>\n",
              "      <th>1</th>\n",
              "      <td>2011-09-14</td>\n",
              "      <td>6.19</td>\n",
              "      <td>42.465753</td>\n",
              "      <td>0.000000</td>\n",
              "      <td>1.326393e+01</td>\n",
              "      <td>1.755425e+06</td>\n",
              "      <td>4.830647e+04</td>\n",
              "      <td>0.000000e+00</td>\n",
              "      <td>594.907367</td>\n",
              "      <td>0.018007</td>\n",
              "      <td>...</td>\n",
              "      <td>7.369408</td>\n",
              "      <td>12408.0</td>\n",
              "      <td>6200.0</td>\n",
              "      <td>1503780.0</td>\n",
              "      <td>6200.0</td>\n",
              "      <td>3.026190e+05</td>\n",
              "      <td>74521.484625</td>\n",
              "      <td>4.612880e+05</td>\n",
              "      <td>7.264662e+06</td>\n",
              "      <td>4.540930e+07</td>\n",
              "    </tr>\n",
              "    <tr>\n",
              "      <th>2</th>\n",
              "      <td>2011-09-15</td>\n",
              "      <td>5.92</td>\n",
              "      <td>41.500000</td>\n",
              "      <td>0.000000</td>\n",
              "      <td>1.291487e+01</td>\n",
              "      <td>1.755425e+06</td>\n",
              "      <td>6.043144e+04</td>\n",
              "      <td>0.000000e+00</td>\n",
              "      <td>597.554226</td>\n",
              "      <td>0.018240</td>\n",
              "      <td>...</td>\n",
              "      <td>7.333913</td>\n",
              "      <td>12988.0</td>\n",
              "      <td>6474.0</td>\n",
              "      <td>1509972.0</td>\n",
              "      <td>6474.0</td>\n",
              "      <td>2.992261e+05</td>\n",
              "      <td>79422.402932</td>\n",
              "      <td>4.701806e+05</td>\n",
              "      <td>7.272284e+06</td>\n",
              "      <td>4.322228e+07</td>\n",
              "    </tr>\n",
              "    <tr>\n",
              "      <th>3</th>\n",
              "      <td>2011-09-16</td>\n",
              "      <td>5.58</td>\n",
              "      <td>52.176471</td>\n",
              "      <td>0.000000</td>\n",
              "      <td>1.099510e+01</td>\n",
              "      <td>1.755425e+06</td>\n",
              "      <td>3.434502e+04</td>\n",
              "      <td>0.000000e+00</td>\n",
              "      <td>600.362512</td>\n",
              "      <td>0.022136</td>\n",
              "      <td>...</td>\n",
              "      <td>5.466341</td>\n",
              "      <td>12059.0</td>\n",
              "      <td>6209.0</td>\n",
              "      <td>1516381.0</td>\n",
              "      <td>6209.0</td>\n",
              "      <td>6.746069e+05</td>\n",
              "      <td>82696.853247</td>\n",
              "      <td>4.614484e+05</td>\n",
              "      <td>7.279040e+06</td>\n",
              "      <td>4.088136e+07</td>\n",
              "    </tr>\n",
              "    <tr>\n",
              "      <th>4</th>\n",
              "      <td>2011-09-17</td>\n",
              "      <td>5.18</td>\n",
              "      <td>40.701493</td>\n",
              "      <td>0.000000</td>\n",
              "      <td>1.073331e+01</td>\n",
              "      <td>1.755425e+06</td>\n",
              "      <td>3.680591e+04</td>\n",
              "      <td>0.000000e+00</td>\n",
              "      <td>602.995510</td>\n",
              "      <td>0.017116</td>\n",
              "      <td>...</td>\n",
              "      <td>6.489054</td>\n",
              "      <td>10988.0</td>\n",
              "      <td>5454.0</td>\n",
              "      <td>1522600.0</td>\n",
              "      <td>5454.0</td>\n",
              "      <td>3.541989e+05</td>\n",
              "      <td>68238.166521</td>\n",
              "      <td>3.534737e+05</td>\n",
              "      <td>7.285375e+06</td>\n",
              "      <td>3.801833e+07</td>\n",
              "    </tr>\n",
              "    <tr>\n",
              "      <th>...</th>\n",
              "      <td>...</td>\n",
              "      <td>...</td>\n",
              "      <td>...</td>\n",
              "      <td>...</td>\n",
              "      <td>...</td>\n",
              "      <td>...</td>\n",
              "      <td>...</td>\n",
              "      <td>...</td>\n",
              "      <td>...</td>\n",
              "      <td>...</td>\n",
              "      <td>...</td>\n",
              "      <td>...</td>\n",
              "      <td>...</td>\n",
              "      <td>...</td>\n",
              "      <td>...</td>\n",
              "      <td>...</td>\n",
              "      <td>...</td>\n",
              "      <td>...</td>\n",
              "      <td>...</td>\n",
              "      <td>...</td>\n",
              "      <td>...</td>\n",
              "    </tr>\n",
              "    <tr>\n",
              "      <th>3509</th>\n",
              "      <td>2021-04-22</td>\n",
              "      <td>53808.80</td>\n",
              "      <td>1920.349650</td>\n",
              "      <td>10.666667</td>\n",
              "      <td>1.676341e+08</td>\n",
              "      <td>2.358198e+13</td>\n",
              "      <td>6.429395e+07</td>\n",
              "      <td>6.294209e+08</td>\n",
              "      <td>340456.355086</td>\n",
              "      <td>1.276191</td>\n",
              "      <td>...</td>\n",
              "      <td>234.128229</td>\n",
              "      <td>757844.0</td>\n",
              "      <td>274610.0</td>\n",
              "      <td>635849023.0</td>\n",
              "      <td>269592.0</td>\n",
              "      <td>2.189518e+06</td>\n",
              "      <td>157972.362817</td>\n",
              "      <td>8.500130e+09</td>\n",
              "      <td>1.868829e+07</td>\n",
              "      <td>1.011151e+12</td>\n",
              "    </tr>\n",
              "    <tr>\n",
              "      <th>3510</th>\n",
              "      <td>2021-04-23</td>\n",
              "      <td>51731.71</td>\n",
              "      <td>2190.600000</td>\n",
              "      <td>12.100000</td>\n",
              "      <td>1.582560e+08</td>\n",
              "      <td>2.358198e+13</td>\n",
              "      <td>5.556738e+07</td>\n",
              "      <td>1.187406e+09</td>\n",
              "      <td>340638.819333</td>\n",
              "      <td>1.315820</td>\n",
              "      <td>...</td>\n",
              "      <td>187.898411</td>\n",
              "      <td>794322.0</td>\n",
              "      <td>295731.0</td>\n",
              "      <td>636123674.0</td>\n",
              "      <td>290057.0</td>\n",
              "      <td>2.184878e+06</td>\n",
              "      <td>230771.360532</td>\n",
              "      <td>1.148612e+10</td>\n",
              "      <td>1.868916e+07</td>\n",
              "      <td>9.350666e+11</td>\n",
              "    </tr>\n",
              "    <tr>\n",
              "      <th>3511</th>\n",
              "      <td>2021-04-24</td>\n",
              "      <td>51153.13</td>\n",
              "      <td>2004.758621</td>\n",
              "      <td>13.200000</td>\n",
              "      <td>1.699787e+08</td>\n",
              "      <td>2.358198e+13</td>\n",
              "      <td>5.387773e+07</td>\n",
              "      <td>1.413848e+09</td>\n",
              "      <td>340816.370766</td>\n",
              "      <td>1.326226</td>\n",
              "      <td>...</td>\n",
              "      <td>185.344294</td>\n",
              "      <td>695216.0</td>\n",
              "      <td>290690.0</td>\n",
              "      <td>636418250.0</td>\n",
              "      <td>285889.0</td>\n",
              "      <td>1.601340e+06</td>\n",
              "      <td>78195.467366</td>\n",
              "      <td>3.907764e+09</td>\n",
              "      <td>1.869003e+07</td>\n",
              "      <td>9.373611e+11</td>\n",
              "    </tr>\n",
              "    <tr>\n",
              "      <th>3512</th>\n",
              "      <td>2021-04-25</td>\n",
              "      <td>50110.53</td>\n",
              "      <td>1709.510638</td>\n",
              "      <td>12.000000</td>\n",
              "      <td>1.652896e+08</td>\n",
              "      <td>2.358198e+13</td>\n",
              "      <td>4.945331e+07</td>\n",
              "      <td>4.582743e+08</td>\n",
              "      <td>341008.684802</td>\n",
              "      <td>1.342451</td>\n",
              "      <td>...</td>\n",
              "      <td>205.165565</td>\n",
              "      <td>585806.0</td>\n",
              "      <td>241041.0</td>\n",
              "      <td>636708684.0</td>\n",
              "      <td>236534.0</td>\n",
              "      <td>1.637220e+06</td>\n",
              "      <td>114196.701243</td>\n",
              "      <td>5.690337e+09</td>\n",
              "      <td>1.869093e+07</td>\n",
              "      <td>9.308049e+11</td>\n",
              "    </tr>\n",
              "    <tr>\n",
              "      <th>3513</th>\n",
              "      <td>2021-04-26</td>\n",
              "      <td>49075.58</td>\n",
              "      <td>2111.289474</td>\n",
              "      <td>13.137500</td>\n",
              "      <td>1.336384e+08</td>\n",
              "      <td>2.358198e+13</td>\n",
              "      <td>4.738959e+07</td>\n",
              "      <td>5.766356e+08</td>\n",
              "      <td>341197.879460</td>\n",
              "      <td>1.314773</td>\n",
              "      <td>...</td>\n",
              "      <td>193.687774</td>\n",
              "      <td>677984.0</td>\n",
              "      <td>240687.0</td>\n",
              "      <td>636950101.0</td>\n",
              "      <td>236860.0</td>\n",
              "      <td>2.153569e+06</td>\n",
              "      <td>131967.163251</td>\n",
              "      <td>6.987268e+09</td>\n",
              "      <td>1.869172e+07</td>\n",
              "      <td>9.768236e+11</td>\n",
              "    </tr>\n",
              "  </tbody>\n",
              "</table>\n",
              "<p>3514 rows × 23 columns</p>\n",
              "</div>\n",
              "      <button class=\"colab-df-convert\" onclick=\"convertToInteractive('df-3598dc0d-499b-475e-8f87-e72c63e04360')\"\n",
              "              title=\"Convert this dataframe to an interactive table.\"\n",
              "              style=\"display:none;\">\n",
              "        \n",
              "  <svg xmlns=\"http://www.w3.org/2000/svg\" height=\"24px\"viewBox=\"0 0 24 24\"\n",
              "       width=\"24px\">\n",
              "    <path d=\"M0 0h24v24H0V0z\" fill=\"none\"/>\n",
              "    <path d=\"M18.56 5.44l.94 2.06.94-2.06 2.06-.94-2.06-.94-.94-2.06-.94 2.06-2.06.94zm-11 1L8.5 8.5l.94-2.06 2.06-.94-2.06-.94L8.5 2.5l-.94 2.06-2.06.94zm10 10l.94 2.06.94-2.06 2.06-.94-2.06-.94-.94-2.06-.94 2.06-2.06.94z\"/><path d=\"M17.41 7.96l-1.37-1.37c-.4-.4-.92-.59-1.43-.59-.52 0-1.04.2-1.43.59L10.3 9.45l-7.72 7.72c-.78.78-.78 2.05 0 2.83L4 21.41c.39.39.9.59 1.41.59.51 0 1.02-.2 1.41-.59l7.78-7.78 2.81-2.81c.8-.78.8-2.07 0-2.86zM5.41 20L4 18.59l7.72-7.72 1.47 1.35L5.41 20z\"/>\n",
              "  </svg>\n",
              "      </button>\n",
              "      \n",
              "  <style>\n",
              "    .colab-df-container {\n",
              "      display:flex;\n",
              "      flex-wrap:wrap;\n",
              "      gap: 12px;\n",
              "    }\n",
              "\n",
              "    .colab-df-convert {\n",
              "      background-color: #E8F0FE;\n",
              "      border: none;\n",
              "      border-radius: 50%;\n",
              "      cursor: pointer;\n",
              "      display: none;\n",
              "      fill: #1967D2;\n",
              "      height: 32px;\n",
              "      padding: 0 0 0 0;\n",
              "      width: 32px;\n",
              "    }\n",
              "\n",
              "    .colab-df-convert:hover {\n",
              "      background-color: #E2EBFA;\n",
              "      box-shadow: 0px 1px 2px rgba(60, 64, 67, 0.3), 0px 1px 3px 1px rgba(60, 64, 67, 0.15);\n",
              "      fill: #174EA6;\n",
              "    }\n",
              "\n",
              "    [theme=dark] .colab-df-convert {\n",
              "      background-color: #3B4455;\n",
              "      fill: #D2E3FC;\n",
              "    }\n",
              "\n",
              "    [theme=dark] .colab-df-convert:hover {\n",
              "      background-color: #434B5C;\n",
              "      box-shadow: 0px 1px 3px 1px rgba(0, 0, 0, 0.15);\n",
              "      filter: drop-shadow(0px 1px 2px rgba(0, 0, 0, 0.3));\n",
              "      fill: #FFFFFF;\n",
              "    }\n",
              "  </style>\n",
              "\n",
              "      <script>\n",
              "        const buttonEl =\n",
              "          document.querySelector('#df-3598dc0d-499b-475e-8f87-e72c63e04360 button.colab-df-convert');\n",
              "        buttonEl.style.display =\n",
              "          google.colab.kernel.accessAllowed ? 'block' : 'none';\n",
              "\n",
              "        async function convertToInteractive(key) {\n",
              "          const element = document.querySelector('#df-3598dc0d-499b-475e-8f87-e72c63e04360');\n",
              "          const dataTable =\n",
              "            await google.colab.kernel.invokeFunction('convertToInteractive',\n",
              "                                                     [key], {});\n",
              "          if (!dataTable) return;\n",
              "\n",
              "          const docLinkHtml = 'Like what you see? Visit the ' +\n",
              "            '<a target=\"_blank\" href=https://colab.research.google.com/notebooks/data_table.ipynb>data table notebook</a>'\n",
              "            + ' to learn more about interactive tables.';\n",
              "          element.innerHTML = '';\n",
              "          dataTable['output_type'] = 'display_data';\n",
              "          await google.colab.output.renderOutput(dataTable, element);\n",
              "          const docLink = document.createElement('div');\n",
              "          docLink.innerHTML = docLinkHtml;\n",
              "          element.appendChild(docLink);\n",
              "        }\n",
              "      </script>\n",
              "    </div>\n",
              "  </div>\n",
              "  "
            ],
            "text/plain": [
              "           Date  market-price  n-transactions-per-block  \\\n",
              "0    2011-09-13          6.88                 45.908451   \n",
              "1    2011-09-14          6.19                 42.465753   \n",
              "2    2011-09-15          5.92                 41.500000   \n",
              "3    2011-09-16          5.58                 52.176471   \n",
              "4    2011-09-17          5.18                 40.701493   \n",
              "...         ...           ...                       ...   \n",
              "3509 2021-04-22      53808.80               1920.349650   \n",
              "3510 2021-04-23      51731.71               2190.600000   \n",
              "3511 2021-04-24      51153.13               2004.758621   \n",
              "3512 2021-04-25      50110.53               1709.510638   \n",
              "3513 2021-04-26      49075.58               2111.289474   \n",
              "\n",
              "      median-confirmation-time     hash-rate    difficulty  miners-revenue  \\\n",
              "0                     0.000000  1.201882e+01  1.777774e+06    5.231801e+04   \n",
              "1                     0.000000  1.326393e+01  1.755425e+06    4.830647e+04   \n",
              "2                     0.000000  1.291487e+01  1.755425e+06    6.043144e+04   \n",
              "3                     0.000000  1.099510e+01  1.755425e+06    3.434502e+04   \n",
              "4                     0.000000  1.073331e+01  1.755425e+06    3.680591e+04   \n",
              "...                        ...           ...           ...             ...   \n",
              "3509                 10.666667  1.676341e+08  2.358198e+13    6.429395e+07   \n",
              "3510                 12.100000  1.582560e+08  2.358198e+13    5.556738e+07   \n",
              "3511                 13.200000  1.699787e+08  2.358198e+13    5.387773e+07   \n",
              "3512                 12.000000  1.652896e+08  2.358198e+13    4.945331e+07   \n",
              "3513                 13.137500  1.336384e+08  2.358198e+13    4.738959e+07   \n",
              "\n",
              "      trade-volume    blocks-size  avg-block-size  ...  cost-per-transaction  \\\n",
              "0     0.000000e+00     592.190091        0.019009  ...              7.666766   \n",
              "1     0.000000e+00     594.907367        0.018007  ...              7.369408   \n",
              "2     0.000000e+00     597.554226        0.018240  ...              7.333913   \n",
              "3     0.000000e+00     600.362512        0.022136  ...              5.466341   \n",
              "4     0.000000e+00     602.995510        0.017116  ...              6.489054   \n",
              "...            ...            ...             ...  ...                   ...   \n",
              "3509  6.294209e+08  340456.355086        1.276191  ...            234.128229   \n",
              "3510  1.187406e+09  340638.819333        1.315820  ...            187.898411   \n",
              "3511  1.413848e+09  340816.370766        1.326226  ...            185.344294   \n",
              "3512  4.582743e+08  341008.684802        1.342451  ...            205.165565   \n",
              "3513  5.766356e+08  341197.879460        1.314773  ...            193.687774   \n",
              "\n",
              "      n-unique-addresses  n-transactions  n-transactions-total  \\\n",
              "0                12622.0          6519.0             1497195.0   \n",
              "1                12408.0          6200.0             1503780.0   \n",
              "2                12988.0          6474.0             1509972.0   \n",
              "3                12059.0          6209.0             1516381.0   \n",
              "4                10988.0          5454.0             1522600.0   \n",
              "...                  ...             ...                   ...   \n",
              "3509            757844.0        274610.0           635849023.0   \n",
              "3510            794322.0        295731.0           636123674.0   \n",
              "3511            695216.0        290690.0           636418250.0   \n",
              "3512            585806.0        241041.0           636708684.0   \n",
              "3513            677984.0        240687.0           636950101.0   \n",
              "\n",
              "      n-transactions-excluding-popular  output-volume  \\\n",
              "0                               6519.0   3.585436e+05   \n",
              "1                               6200.0   3.026190e+05   \n",
              "2                               6474.0   2.992261e+05   \n",
              "3                               6209.0   6.746069e+05   \n",
              "4                               5454.0   3.541989e+05   \n",
              "...                                ...            ...   \n",
              "3509                          269592.0   2.189518e+06   \n",
              "3510                          290057.0   2.184878e+06   \n",
              "3511                          285889.0   1.601340e+06   \n",
              "3512                          236534.0   1.637220e+06   \n",
              "3513                          236860.0   2.153569e+06   \n",
              "\n",
              "      estimated-transaction-volume  estimated-transaction-volume-usd  \\\n",
              "0                     58615.641320                      4.032756e+05   \n",
              "1                     74521.484625                      4.612880e+05   \n",
              "2                     79422.402932                      4.701806e+05   \n",
              "3                     82696.853247                      4.614484e+05   \n",
              "4                     68238.166521                      3.534737e+05   \n",
              "...                            ...                               ...   \n",
              "3509                 157972.362817                      8.500130e+09   \n",
              "3510                 230771.360532                      1.148612e+10   \n",
              "3511                  78195.467366                      3.907764e+09   \n",
              "3512                 114196.701243                      5.690337e+09   \n",
              "3513                 131967.163251                      6.987268e+09   \n",
              "\n",
              "      total-bitcoins    market-cap  \n",
              "0       7.257416e+06  5.022014e+07  \n",
              "1       7.264662e+06  4.540930e+07  \n",
              "2       7.272284e+06  4.322228e+07  \n",
              "3       7.279040e+06  4.088136e+07  \n",
              "4       7.285375e+06  3.801833e+07  \n",
              "...              ...           ...  \n",
              "3509    1.868829e+07  1.011151e+12  \n",
              "3510    1.868916e+07  9.350666e+11  \n",
              "3511    1.869003e+07  9.373611e+11  \n",
              "3512    1.869093e+07  9.308049e+11  \n",
              "3513    1.869172e+07  9.768236e+11  \n",
              "\n",
              "[3514 rows x 23 columns]"
            ]
          },
          "execution_count": 8,
          "metadata": {},
          "output_type": "execute_result"
        }
      ],
      "source": [
        "X_train, X_test = hf.data_split(df_blockchain)"
      ]
    },
    {
      "cell_type": "markdown",
      "metadata": {
        "id": "Cyn275A_S6GL"
      },
      "source": [
        "# ARIMA\n"
      ]
    },
    {
      "cell_type": "markdown",
      "metadata": {
        "id": "qr43e-YBS6GM"
      },
      "source": [
        "## Modeling\n",
        "The following code allows ARIMA modeling with one combination of (p,d,q)."
      ]
    },
    {
      "cell_type": "code",
      "execution_count": null,
      "metadata": {
        "colab": {
          "base_uri": "https://localhost:8080/",
          "height": 484
        },
        "id": "NTV4OOJCS6GP",
        "outputId": "0f166eab-be75-4266-9b94-f9668a4e85bb"
      },
      "outputs": [
        {
          "ename": "NotImplementedError",
          "evalue": "ignored",
          "output_type": "error",
          "traceback": [
            "\u001b[0;31m---------------------------------------------------------------------------\u001b[0m",
            "\u001b[0;31mNotImplementedError\u001b[0m                       Traceback (most recent call last)",
            "\u001b[0;32m<ipython-input-45-b71674391d9c>\u001b[0m in \u001b[0;36m<module>\u001b[0;34m()\u001b[0m\n\u001b[1;32m      1\u001b[0m \u001b[0mparameters\u001b[0m \u001b[0;34m=\u001b[0m \u001b[0;34m(\u001b[0m\u001b[0;36m2\u001b[0m\u001b[0;34m,\u001b[0m\u001b[0;36m1\u001b[0m\u001b[0;34m,\u001b[0m\u001b[0;36m1\u001b[0m\u001b[0;34m)\u001b[0m\u001b[0;34m\u001b[0m\u001b[0;34m\u001b[0m\u001b[0m\n\u001b[1;32m      2\u001b[0m errors, predictions = hf.evaluate_arima_model(X_train[\"market-price\"], \n\u001b[0;32m----> 3\u001b[0;31m                                               X_test[\"market-price\"], parameters )\n\u001b[0m\u001b[1;32m      4\u001b[0m \u001b[0merrors\u001b[0m\u001b[0;34m\u001b[0m\u001b[0;34m\u001b[0m\u001b[0m\n",
            "\u001b[0;32m/content/drive/MyDrive/EI time series/helper_functions.py\u001b[0m in \u001b[0;36mevaluate_arima_model\u001b[0;34m(X_train, X_test, arima_order)\u001b[0m\n\u001b[1;32m     56\u001b[0m \u001b[0;34m\u001b[0m\u001b[0m\n\u001b[1;32m     57\u001b[0m     \u001b[0;32mfor\u001b[0m \u001b[0mt\u001b[0m \u001b[0;32min\u001b[0m \u001b[0mrange\u001b[0m\u001b[0;34m(\u001b[0m\u001b[0mlen\u001b[0m\u001b[0;34m(\u001b[0m\u001b[0mX_test\u001b[0m\u001b[0;34m)\u001b[0m\u001b[0;34m)\u001b[0m\u001b[0;34m:\u001b[0m\u001b[0;34m\u001b[0m\u001b[0;34m\u001b[0m\u001b[0m\n\u001b[0;32m---> 58\u001b[0;31m         \u001b[0mmodel\u001b[0m \u001b[0;34m=\u001b[0m \u001b[0mARIMA\u001b[0m\u001b[0;34m(\u001b[0m\u001b[0mhistory\u001b[0m\u001b[0;34m,\u001b[0m \u001b[0morder\u001b[0m\u001b[0;34m=\u001b[0m\u001b[0marima_order\u001b[0m\u001b[0;34m)\u001b[0m\u001b[0;34m\u001b[0m\u001b[0;34m\u001b[0m\u001b[0m\n\u001b[0m\u001b[1;32m     59\u001b[0m         \u001b[0mmodel_fit\u001b[0m \u001b[0;34m=\u001b[0m \u001b[0mmodel\u001b[0m\u001b[0;34m.\u001b[0m\u001b[0mfit\u001b[0m\u001b[0;34m(\u001b[0m\u001b[0mdisp\u001b[0m\u001b[0;34m=\u001b[0m\u001b[0;36m0\u001b[0m\u001b[0;34m)\u001b[0m\u001b[0;34m\u001b[0m\u001b[0;34m\u001b[0m\u001b[0m\n\u001b[1;32m     60\u001b[0m         \u001b[0myhat\u001b[0m \u001b[0;34m=\u001b[0m \u001b[0mmodel_fit\u001b[0m\u001b[0;34m.\u001b[0m\u001b[0mforecast\u001b[0m\u001b[0;34m(\u001b[0m\u001b[0;34m)\u001b[0m\u001b[0;34m[\u001b[0m\u001b[0;36m0\u001b[0m\u001b[0;34m]\u001b[0m\u001b[0;34m\u001b[0m\u001b[0;34m\u001b[0m\u001b[0m\n",
            "\u001b[0;32m/usr/local/lib/python3.7/dist-packages/statsmodels/tsa/arima_model.py\u001b[0m in \u001b[0;36m__init__\u001b[0;34m(self, *args, **kwargs)\u001b[0m\n\u001b[1;32m     43\u001b[0m \u001b[0;34m\u001b[0m\u001b[0m\n\u001b[1;32m     44\u001b[0m     \u001b[0;32mdef\u001b[0m \u001b[0m__init__\u001b[0m\u001b[0;34m(\u001b[0m\u001b[0mself\u001b[0m\u001b[0;34m,\u001b[0m \u001b[0;34m*\u001b[0m\u001b[0margs\u001b[0m\u001b[0;34m,\u001b[0m \u001b[0;34m**\u001b[0m\u001b[0mkwargs\u001b[0m\u001b[0;34m)\u001b[0m\u001b[0;34m:\u001b[0m\u001b[0;34m\u001b[0m\u001b[0;34m\u001b[0m\u001b[0m\n\u001b[0;32m---> 45\u001b[0;31m         \u001b[0msuper\u001b[0m\u001b[0;34m(\u001b[0m\u001b[0;34m)\u001b[0m\u001b[0;34m.\u001b[0m\u001b[0m__init__\u001b[0m\u001b[0;34m(\u001b[0m\u001b[0;34m*\u001b[0m\u001b[0margs\u001b[0m\u001b[0;34m,\u001b[0m \u001b[0;34m**\u001b[0m\u001b[0mkwargs\u001b[0m\u001b[0;34m)\u001b[0m\u001b[0;34m\u001b[0m\u001b[0;34m\u001b[0m\u001b[0m\n\u001b[0m\u001b[1;32m     46\u001b[0m \u001b[0;34m\u001b[0m\u001b[0m\n\u001b[1;32m     47\u001b[0m \u001b[0;34m\u001b[0m\u001b[0m\n",
            "\u001b[0;32m/usr/local/lib/python3.7/dist-packages/statsmodels/tsa/arima_model.py\u001b[0m in \u001b[0;36m__init__\u001b[0;34m(self, *args, **kwargs)\u001b[0m\n\u001b[1;32m     27\u001b[0m \u001b[0;34m\u001b[0m\u001b[0m\n\u001b[1;32m     28\u001b[0m     \u001b[0;32mdef\u001b[0m \u001b[0m__init__\u001b[0m\u001b[0;34m(\u001b[0m\u001b[0mself\u001b[0m\u001b[0;34m,\u001b[0m \u001b[0;34m*\u001b[0m\u001b[0margs\u001b[0m\u001b[0;34m,\u001b[0m \u001b[0;34m**\u001b[0m\u001b[0mkwargs\u001b[0m\u001b[0;34m)\u001b[0m\u001b[0;34m:\u001b[0m\u001b[0;34m\u001b[0m\u001b[0;34m\u001b[0m\u001b[0m\n\u001b[0;32m---> 29\u001b[0;31m         \u001b[0;32mraise\u001b[0m \u001b[0mNotImplementedError\u001b[0m\u001b[0;34m(\u001b[0m\u001b[0mARIMA_DEPRECATION_ERROR\u001b[0m\u001b[0;34m)\u001b[0m\u001b[0;34m\u001b[0m\u001b[0;34m\u001b[0m\u001b[0m\n\u001b[0m\u001b[1;32m     30\u001b[0m \u001b[0;34m\u001b[0m\u001b[0m\n\u001b[1;32m     31\u001b[0m \u001b[0;34m\u001b[0m\u001b[0m\n",
            "\u001b[0;31mNotImplementedError\u001b[0m: \nstatsmodels.tsa.arima_model.ARMA and statsmodels.tsa.arima_model.ARIMA have\nbeen removed in favor of statsmodels.tsa.arima.model.ARIMA (note the .\nbetween arima and model) and statsmodels.tsa.SARIMAX.\n\nstatsmodels.tsa.arima.model.ARIMA makes use of the statespace framework and\nis both well tested and maintained. It also offers alternative specialized\nparameter estimators.\n"
          ]
        }
      ],
      "source": [
        "parameters = (2,1,1)\n",
        "errors, predictions = hf.evaluate_arima_model(X_train[\"market-price\"], \n",
        "                                              X_test[\"market-price\"], parameters )\n",
        "errors"
      ]
    },
    {
      "cell_type": "markdown",
      "metadata": {
        "id": "ycHanSXJS6GT"
      },
      "source": [
        "## Search for the best ARIMA model\n",
        "We use grid search to search for the best ARIMA parameters that gives the lowest error. This follows the Box-Jenkins methology."
      ]
    },
    {
      "cell_type": "code",
      "execution_count": null,
      "metadata": {
        "id": "EqxyKozJS6GV"
      },
      "outputs": [],
      "source": [
        "best_cfg, best_score = hf.arima_grid_search(X_train[\"market-price\"], \n",
        "                                            X_test[\"market-price\"],\n",
        "                                            np.arange(1,3), np.arange(3), np.arange(3))"
      ]
    },
    {
      "cell_type": "code",
      "execution_count": null,
      "metadata": {
        "id": "EpSDkec5cl1x"
      },
      "outputs": [],
      "source": [
        "parameters = best_cfg\n",
        "errors, predictions = hf.evaluate_arima_model(X_train[\"market-price\"], \n",
        "                                              X_test[\"market-price\"], parameters )\n"
      ]
    },
    {
      "cell_type": "code",
      "execution_count": null,
      "metadata": {
        "id": "TFViJRY7ezl-"
      },
      "outputs": [],
      "source": [
        "parameters"
      ]
    },
    {
      "cell_type": "markdown",
      "metadata": {
        "id": "G4kOs1WBS6GX"
      },
      "source": [
        "## Visualization\n",
        "To have a better view on the difference between true and predict values, we visualize them by plotting both the signals."
      ]
    },
    {
      "cell_type": "code",
      "execution_count": null,
      "metadata": {
        "id": "FCBGlnbxS6GY"
      },
      "outputs": [],
      "source": [
        "# prepare the dataset for plotting\n",
        "predict_date = df_blockchain.iloc[-30::][\"Date\"]\n",
        "df_predict = pd.DataFrame(zip(predict_date,predictions,X_test[\"market-price\"].values),\n",
        "                          columns=[\"date\", \"predict\", \"true\"])\n",
        "df_predict"
      ]
    },
    {
      "cell_type": "code",
      "execution_count": null,
      "metadata": {
        "id": "IPoW1yN9eRtA"
      },
      "outputs": [],
      "source": [
        "df=df_predict\n",
        "rmse_score = np.sqrt(np.square(np.subtract(df['predict'], df['true'])).mean())\n",
        "print(\"rmse score : \", rmse_score)\n",
        "df.shape"
      ]
    },
    {
      "cell_type": "code",
      "execution_count": null,
      "metadata": {
        "id": "ktP29ZANS6GZ"
      },
      "outputs": [],
      "source": [
        "fig, ax = plt.subplots(figsize=(8,4))\n",
        "\n",
        "sns.lineplot(x=\"date\", y=\"true\", data=df_predict, \n",
        "             ax=ax, label=\"y_true\", markers=True )\n",
        "plot_ = sns.lineplot(x=\"date\",\n",
        "             y=\"predict\",\n",
        "             data=df_predict,\n",
        "             color=\"green\",ax=ax, label=\"y_predict\")\n",
        "plot_.lines[1].set_linestyle(\"dotted\")\n",
        "new_ticks = plot_.get_xticklabels()\n",
        "freq = 4\n",
        "ax.set_xticks(np.arange(0, len(new_ticks), freq))\n",
        "labels = predict_date[::freq]\n",
        "ax.set_xticklabels(labels)\n",
        "ax.set_ylabel(\"Bitcoin Market Price [USD]\")\n",
        "ax.set_xlabel(\"Test date\")\n",
        "ax.set_title(f\"Model ARIMA{parameters}\")\n",
        "sns.despine()\n",
        "plt.legend()\n",
        "plt.tight_layout()\n"
      ]
    },
    {
      "cell_type": "markdown",
      "metadata": {
        "id": "pZ8ZcO9tw6p8"
      },
      "source": [
        "# ARIMAX"
      ]
    },
    {
      "cell_type": "markdown",
      "metadata": {
        "id": "klIFSJOT_LEo"
      },
      "source": [
        "We will look at the influence of some exogenous variables like miners-revenue and difficulty on the market-price.\n",
        "\n",
        "We fit the data with best parameters (1,1,2) as ARIMA model showed but we add exogenous regressors."
      ]
    },
    {
      "cell_type": "code",
      "execution_count": 7,
      "metadata": {
        "colab": {
          "base_uri": "https://localhost:8080/",
          "height": 328
        },
        "id": "s9AJTOGkoWt3",
        "outputId": "6919dc69-4849-4786-9383-c0660f9d7fd4"
      },
      "outputs": [
        {
          "ename": "ValueError",
          "evalue": "ignored",
          "output_type": "error",
          "traceback": [
            "\u001b[0;31m---------------------------------------------------------------------------\u001b[0m",
            "\u001b[0;31mValueError\u001b[0m                                Traceback (most recent call last)",
            "\u001b[0;32m<ipython-input-7-0a86a886d163>\u001b[0m in \u001b[0;36m<module>\u001b[0;34m()\u001b[0m\n\u001b[1;32m      1\u001b[0m \u001b[0;32mfrom\u001b[0m \u001b[0mgoogle\u001b[0m\u001b[0;34m.\u001b[0m\u001b[0mcolab\u001b[0m \u001b[0;32mimport\u001b[0m \u001b[0mdrive\u001b[0m\u001b[0;34m\u001b[0m\u001b[0;34m\u001b[0m\u001b[0m\n\u001b[0;32m----> 2\u001b[0;31m \u001b[0mdrive\u001b[0m\u001b[0;34m.\u001b[0m\u001b[0mmount\u001b[0m\u001b[0;34m(\u001b[0m\u001b[0;34m'/content/drive/MyDrive/EI time series'\u001b[0m\u001b[0;34m)\u001b[0m\u001b[0;34m\u001b[0m\u001b[0;34m\u001b[0m\u001b[0m\n\u001b[0m",
            "\u001b[0;32m/usr/local/lib/python3.7/dist-packages/google/colab/drive.py\u001b[0m in \u001b[0;36mmount\u001b[0;34m(mountpoint, force_remount, timeout_ms)\u001b[0m\n\u001b[1;32m    107\u001b[0m       \u001b[0mforce_remount\u001b[0m\u001b[0;34m=\u001b[0m\u001b[0mforce_remount\u001b[0m\u001b[0;34m,\u001b[0m\u001b[0;34m\u001b[0m\u001b[0;34m\u001b[0m\u001b[0m\n\u001b[1;32m    108\u001b[0m       \u001b[0mtimeout_ms\u001b[0m\u001b[0;34m=\u001b[0m\u001b[0mtimeout_ms\u001b[0m\u001b[0;34m,\u001b[0m\u001b[0;34m\u001b[0m\u001b[0;34m\u001b[0m\u001b[0m\n\u001b[0;32m--> 109\u001b[0;31m       ephemeral=True)\n\u001b[0m\u001b[1;32m    110\u001b[0m \u001b[0;34m\u001b[0m\u001b[0m\n\u001b[1;32m    111\u001b[0m \u001b[0;34m\u001b[0m\u001b[0m\n",
            "\u001b[0;32m/usr/local/lib/python3.7/dist-packages/google/colab/drive.py\u001b[0m in \u001b[0;36m_mount\u001b[0;34m(mountpoint, force_remount, timeout_ms, ephemeral)\u001b[0m\n\u001b[1;32m    116\u001b[0m \u001b[0;34m\u001b[0m\u001b[0m\n\u001b[1;32m    117\u001b[0m   \u001b[0;32mif\u001b[0m \u001b[0;34m' '\u001b[0m \u001b[0;32min\u001b[0m \u001b[0mmountpoint\u001b[0m\u001b[0;34m:\u001b[0m\u001b[0;34m\u001b[0m\u001b[0;34m\u001b[0m\u001b[0m\n\u001b[0;32m--> 118\u001b[0;31m     \u001b[0;32mraise\u001b[0m \u001b[0mValueError\u001b[0m\u001b[0;34m(\u001b[0m\u001b[0;34m'Mountpoint must not contain a space.'\u001b[0m\u001b[0;34m)\u001b[0m\u001b[0;34m\u001b[0m\u001b[0;34m\u001b[0m\u001b[0m\n\u001b[0m\u001b[1;32m    119\u001b[0m \u001b[0;34m\u001b[0m\u001b[0m\n\u001b[1;32m    120\u001b[0m   metadata_server_addr = _os.environ[\n",
            "\u001b[0;31mValueError\u001b[0m: Mountpoint must not contain a space."
          ]
        }
      ],
      "source": [
        "from google.colab import drive\n",
        "drive.mount('/content/drive/MyDrive/EI time series')"
      ]
    },
    {
      "cell_type": "code",
      "execution_count": 8,
      "metadata": {
        "id": "AvuCkiF0ULnW"
      },
      "outputs": [],
      "source": [
        "import os\n",
        "import numpy as np\n",
        "import pandas as pd\n",
        "import matplotlib.pylab as plt\n",
        "import seaborn as sns\n",
        "from statsmodels.graphics.tsaplots import plot_acf, plot_pacf\n",
        "from statsmodels.tsa.stattools import adfuller\n",
        "from sklearn.metrics import mean_squared_error\n",
        "\n",
        "CURDIR = os.getcwd()\n",
        "DATADIR = os.path.join(CURDIR,  \"data\")\n",
        "%matplotlib inline"
      ]
    },
    {
      "cell_type": "code",
      "execution_count": 9,
      "metadata": {
        "colab": {
          "base_uri": "https://localhost:8080/",
          "height": 328
        },
        "id": "wQRAyGhUUS5b",
        "outputId": "83ab2337-d18d-43d0-8436-7faa03b6b9cd"
      },
      "outputs": [
        {
          "ename": "FileNotFoundError",
          "evalue": "ignored",
          "output_type": "error",
          "traceback": [
            "\u001b[0;31m---------------------------------------------------------------------------\u001b[0m",
            "\u001b[0;31mFileNotFoundError\u001b[0m                         Traceback (most recent call last)",
            "\u001b[0;32m<ipython-input-9-6fe0387cff2b>\u001b[0m in \u001b[0;36m<module>\u001b[0;34m()\u001b[0m\n\u001b[0;32m----> 1\u001b[0;31m \u001b[0mdf_blockchain\u001b[0m \u001b[0;34m=\u001b[0m \u001b[0mpd\u001b[0m\u001b[0;34m.\u001b[0m\u001b[0mread_csv\u001b[0m\u001b[0;34m(\u001b[0m\u001b[0mos\u001b[0m\u001b[0;34m.\u001b[0m\u001b[0mpath\u001b[0m\u001b[0;34m.\u001b[0m\u001b[0mjoin\u001b[0m\u001b[0;34m(\u001b[0m\u001b[0mDATADIR\u001b[0m\u001b[0;34m,\u001b[0m \u001b[0;34m\"df_blockchain.csv\"\u001b[0m\u001b[0;34m)\u001b[0m\u001b[0;34m,\u001b[0m  \u001b[0mdelimiter\u001b[0m\u001b[0;34m=\u001b[0m\u001b[0;34m\",\"\u001b[0m\u001b[0;34m)\u001b[0m\u001b[0;34m\u001b[0m\u001b[0;34m\u001b[0m\u001b[0m\n\u001b[0m",
            "\u001b[0;32m/usr/local/lib/python3.7/dist-packages/pandas/util/_decorators.py\u001b[0m in \u001b[0;36mwrapper\u001b[0;34m(*args, **kwargs)\u001b[0m\n\u001b[1;32m    309\u001b[0m                     \u001b[0mstacklevel\u001b[0m\u001b[0;34m=\u001b[0m\u001b[0mstacklevel\u001b[0m\u001b[0;34m,\u001b[0m\u001b[0;34m\u001b[0m\u001b[0;34m\u001b[0m\u001b[0m\n\u001b[1;32m    310\u001b[0m                 )\n\u001b[0;32m--> 311\u001b[0;31m             \u001b[0;32mreturn\u001b[0m \u001b[0mfunc\u001b[0m\u001b[0;34m(\u001b[0m\u001b[0;34m*\u001b[0m\u001b[0margs\u001b[0m\u001b[0;34m,\u001b[0m \u001b[0;34m**\u001b[0m\u001b[0mkwargs\u001b[0m\u001b[0;34m)\u001b[0m\u001b[0;34m\u001b[0m\u001b[0;34m\u001b[0m\u001b[0m\n\u001b[0m\u001b[1;32m    312\u001b[0m \u001b[0;34m\u001b[0m\u001b[0m\n\u001b[1;32m    313\u001b[0m         \u001b[0;32mreturn\u001b[0m \u001b[0mwrapper\u001b[0m\u001b[0;34m\u001b[0m\u001b[0;34m\u001b[0m\u001b[0m\n",
            "\u001b[0;32m/usr/local/lib/python3.7/dist-packages/pandas/io/parsers/readers.py\u001b[0m in \u001b[0;36mread_csv\u001b[0;34m(filepath_or_buffer, sep, delimiter, header, names, index_col, usecols, squeeze, prefix, mangle_dupe_cols, dtype, engine, converters, true_values, false_values, skipinitialspace, skiprows, skipfooter, nrows, na_values, keep_default_na, na_filter, verbose, skip_blank_lines, parse_dates, infer_datetime_format, keep_date_col, date_parser, dayfirst, cache_dates, iterator, chunksize, compression, thousands, decimal, lineterminator, quotechar, quoting, doublequote, escapechar, comment, encoding, encoding_errors, dialect, error_bad_lines, warn_bad_lines, on_bad_lines, delim_whitespace, low_memory, memory_map, float_precision, storage_options)\u001b[0m\n\u001b[1;32m    584\u001b[0m     \u001b[0mkwds\u001b[0m\u001b[0;34m.\u001b[0m\u001b[0mupdate\u001b[0m\u001b[0;34m(\u001b[0m\u001b[0mkwds_defaults\u001b[0m\u001b[0;34m)\u001b[0m\u001b[0;34m\u001b[0m\u001b[0;34m\u001b[0m\u001b[0m\n\u001b[1;32m    585\u001b[0m \u001b[0;34m\u001b[0m\u001b[0m\n\u001b[0;32m--> 586\u001b[0;31m     \u001b[0;32mreturn\u001b[0m \u001b[0m_read\u001b[0m\u001b[0;34m(\u001b[0m\u001b[0mfilepath_or_buffer\u001b[0m\u001b[0;34m,\u001b[0m \u001b[0mkwds\u001b[0m\u001b[0;34m)\u001b[0m\u001b[0;34m\u001b[0m\u001b[0;34m\u001b[0m\u001b[0m\n\u001b[0m\u001b[1;32m    587\u001b[0m \u001b[0;34m\u001b[0m\u001b[0m\n\u001b[1;32m    588\u001b[0m \u001b[0;34m\u001b[0m\u001b[0m\n",
            "\u001b[0;32m/usr/local/lib/python3.7/dist-packages/pandas/io/parsers/readers.py\u001b[0m in \u001b[0;36m_read\u001b[0;34m(filepath_or_buffer, kwds)\u001b[0m\n\u001b[1;32m    480\u001b[0m \u001b[0;34m\u001b[0m\u001b[0m\n\u001b[1;32m    481\u001b[0m     \u001b[0;31m# Create the parser.\u001b[0m\u001b[0;34m\u001b[0m\u001b[0;34m\u001b[0m\u001b[0;34m\u001b[0m\u001b[0m\n\u001b[0;32m--> 482\u001b[0;31m     \u001b[0mparser\u001b[0m \u001b[0;34m=\u001b[0m \u001b[0mTextFileReader\u001b[0m\u001b[0;34m(\u001b[0m\u001b[0mfilepath_or_buffer\u001b[0m\u001b[0;34m,\u001b[0m \u001b[0;34m**\u001b[0m\u001b[0mkwds\u001b[0m\u001b[0;34m)\u001b[0m\u001b[0;34m\u001b[0m\u001b[0;34m\u001b[0m\u001b[0m\n\u001b[0m\u001b[1;32m    483\u001b[0m \u001b[0;34m\u001b[0m\u001b[0m\n\u001b[1;32m    484\u001b[0m     \u001b[0;32mif\u001b[0m \u001b[0mchunksize\u001b[0m \u001b[0;32mor\u001b[0m \u001b[0miterator\u001b[0m\u001b[0;34m:\u001b[0m\u001b[0;34m\u001b[0m\u001b[0;34m\u001b[0m\u001b[0m\n",
            "\u001b[0;32m/usr/local/lib/python3.7/dist-packages/pandas/io/parsers/readers.py\u001b[0m in \u001b[0;36m__init__\u001b[0;34m(self, f, engine, **kwds)\u001b[0m\n\u001b[1;32m    809\u001b[0m             \u001b[0mself\u001b[0m\u001b[0;34m.\u001b[0m\u001b[0moptions\u001b[0m\u001b[0;34m[\u001b[0m\u001b[0;34m\"has_index_names\"\u001b[0m\u001b[0;34m]\u001b[0m \u001b[0;34m=\u001b[0m \u001b[0mkwds\u001b[0m\u001b[0;34m[\u001b[0m\u001b[0;34m\"has_index_names\"\u001b[0m\u001b[0;34m]\u001b[0m\u001b[0;34m\u001b[0m\u001b[0;34m\u001b[0m\u001b[0m\n\u001b[1;32m    810\u001b[0m \u001b[0;34m\u001b[0m\u001b[0m\n\u001b[0;32m--> 811\u001b[0;31m         \u001b[0mself\u001b[0m\u001b[0;34m.\u001b[0m\u001b[0m_engine\u001b[0m \u001b[0;34m=\u001b[0m \u001b[0mself\u001b[0m\u001b[0;34m.\u001b[0m\u001b[0m_make_engine\u001b[0m\u001b[0;34m(\u001b[0m\u001b[0mself\u001b[0m\u001b[0;34m.\u001b[0m\u001b[0mengine\u001b[0m\u001b[0;34m)\u001b[0m\u001b[0;34m\u001b[0m\u001b[0;34m\u001b[0m\u001b[0m\n\u001b[0m\u001b[1;32m    812\u001b[0m \u001b[0;34m\u001b[0m\u001b[0m\n\u001b[1;32m    813\u001b[0m     \u001b[0;32mdef\u001b[0m \u001b[0mclose\u001b[0m\u001b[0;34m(\u001b[0m\u001b[0mself\u001b[0m\u001b[0;34m)\u001b[0m\u001b[0;34m:\u001b[0m\u001b[0;34m\u001b[0m\u001b[0;34m\u001b[0m\u001b[0m\n",
            "\u001b[0;32m/usr/local/lib/python3.7/dist-packages/pandas/io/parsers/readers.py\u001b[0m in \u001b[0;36m_make_engine\u001b[0;34m(self, engine)\u001b[0m\n\u001b[1;32m   1038\u001b[0m             )\n\u001b[1;32m   1039\u001b[0m         \u001b[0;31m# error: Too many arguments for \"ParserBase\"\u001b[0m\u001b[0;34m\u001b[0m\u001b[0;34m\u001b[0m\u001b[0;34m\u001b[0m\u001b[0m\n\u001b[0;32m-> 1040\u001b[0;31m         \u001b[0;32mreturn\u001b[0m \u001b[0mmapping\u001b[0m\u001b[0;34m[\u001b[0m\u001b[0mengine\u001b[0m\u001b[0;34m]\u001b[0m\u001b[0;34m(\u001b[0m\u001b[0mself\u001b[0m\u001b[0;34m.\u001b[0m\u001b[0mf\u001b[0m\u001b[0;34m,\u001b[0m \u001b[0;34m**\u001b[0m\u001b[0mself\u001b[0m\u001b[0;34m.\u001b[0m\u001b[0moptions\u001b[0m\u001b[0;34m)\u001b[0m  \u001b[0;31m# type: ignore[call-arg]\u001b[0m\u001b[0;34m\u001b[0m\u001b[0;34m\u001b[0m\u001b[0m\n\u001b[0m\u001b[1;32m   1041\u001b[0m \u001b[0;34m\u001b[0m\u001b[0m\n\u001b[1;32m   1042\u001b[0m     \u001b[0;32mdef\u001b[0m \u001b[0m_failover_to_python\u001b[0m\u001b[0;34m(\u001b[0m\u001b[0mself\u001b[0m\u001b[0;34m)\u001b[0m\u001b[0;34m:\u001b[0m\u001b[0;34m\u001b[0m\u001b[0;34m\u001b[0m\u001b[0m\n",
            "\u001b[0;32m/usr/local/lib/python3.7/dist-packages/pandas/io/parsers/c_parser_wrapper.py\u001b[0m in \u001b[0;36m__init__\u001b[0;34m(self, src, **kwds)\u001b[0m\n\u001b[1;32m     49\u001b[0m \u001b[0;34m\u001b[0m\u001b[0m\n\u001b[1;32m     50\u001b[0m         \u001b[0;31m# open handles\u001b[0m\u001b[0;34m\u001b[0m\u001b[0;34m\u001b[0m\u001b[0;34m\u001b[0m\u001b[0m\n\u001b[0;32m---> 51\u001b[0;31m         \u001b[0mself\u001b[0m\u001b[0;34m.\u001b[0m\u001b[0m_open_handles\u001b[0m\u001b[0;34m(\u001b[0m\u001b[0msrc\u001b[0m\u001b[0;34m,\u001b[0m \u001b[0mkwds\u001b[0m\u001b[0;34m)\u001b[0m\u001b[0;34m\u001b[0m\u001b[0;34m\u001b[0m\u001b[0m\n\u001b[0m\u001b[1;32m     52\u001b[0m         \u001b[0;32massert\u001b[0m \u001b[0mself\u001b[0m\u001b[0;34m.\u001b[0m\u001b[0mhandles\u001b[0m \u001b[0;32mis\u001b[0m \u001b[0;32mnot\u001b[0m \u001b[0;32mNone\u001b[0m\u001b[0;34m\u001b[0m\u001b[0;34m\u001b[0m\u001b[0m\n\u001b[1;32m     53\u001b[0m \u001b[0;34m\u001b[0m\u001b[0m\n",
            "\u001b[0;32m/usr/local/lib/python3.7/dist-packages/pandas/io/parsers/base_parser.py\u001b[0m in \u001b[0;36m_open_handles\u001b[0;34m(self, src, kwds)\u001b[0m\n\u001b[1;32m    227\u001b[0m             \u001b[0mmemory_map\u001b[0m\u001b[0;34m=\u001b[0m\u001b[0mkwds\u001b[0m\u001b[0;34m.\u001b[0m\u001b[0mget\u001b[0m\u001b[0;34m(\u001b[0m\u001b[0;34m\"memory_map\"\u001b[0m\u001b[0;34m,\u001b[0m \u001b[0;32mFalse\u001b[0m\u001b[0;34m)\u001b[0m\u001b[0;34m,\u001b[0m\u001b[0;34m\u001b[0m\u001b[0;34m\u001b[0m\u001b[0m\n\u001b[1;32m    228\u001b[0m             \u001b[0mstorage_options\u001b[0m\u001b[0;34m=\u001b[0m\u001b[0mkwds\u001b[0m\u001b[0;34m.\u001b[0m\u001b[0mget\u001b[0m\u001b[0;34m(\u001b[0m\u001b[0;34m\"storage_options\"\u001b[0m\u001b[0;34m,\u001b[0m \u001b[0;32mNone\u001b[0m\u001b[0;34m)\u001b[0m\u001b[0;34m,\u001b[0m\u001b[0;34m\u001b[0m\u001b[0;34m\u001b[0m\u001b[0m\n\u001b[0;32m--> 229\u001b[0;31m             \u001b[0merrors\u001b[0m\u001b[0;34m=\u001b[0m\u001b[0mkwds\u001b[0m\u001b[0;34m.\u001b[0m\u001b[0mget\u001b[0m\u001b[0;34m(\u001b[0m\u001b[0;34m\"encoding_errors\"\u001b[0m\u001b[0;34m,\u001b[0m \u001b[0;34m\"strict\"\u001b[0m\u001b[0;34m)\u001b[0m\u001b[0;34m,\u001b[0m\u001b[0;34m\u001b[0m\u001b[0;34m\u001b[0m\u001b[0m\n\u001b[0m\u001b[1;32m    230\u001b[0m         )\n\u001b[1;32m    231\u001b[0m \u001b[0;34m\u001b[0m\u001b[0m\n",
            "\u001b[0;32m/usr/local/lib/python3.7/dist-packages/pandas/io/common.py\u001b[0m in \u001b[0;36mget_handle\u001b[0;34m(path_or_buf, mode, encoding, compression, memory_map, is_text, errors, storage_options)\u001b[0m\n\u001b[1;32m    705\u001b[0m                 \u001b[0mencoding\u001b[0m\u001b[0;34m=\u001b[0m\u001b[0mioargs\u001b[0m\u001b[0;34m.\u001b[0m\u001b[0mencoding\u001b[0m\u001b[0;34m,\u001b[0m\u001b[0;34m\u001b[0m\u001b[0;34m\u001b[0m\u001b[0m\n\u001b[1;32m    706\u001b[0m                 \u001b[0merrors\u001b[0m\u001b[0;34m=\u001b[0m\u001b[0merrors\u001b[0m\u001b[0;34m,\u001b[0m\u001b[0;34m\u001b[0m\u001b[0;34m\u001b[0m\u001b[0m\n\u001b[0;32m--> 707\u001b[0;31m                 \u001b[0mnewline\u001b[0m\u001b[0;34m=\u001b[0m\u001b[0;34m\"\"\u001b[0m\u001b[0;34m,\u001b[0m\u001b[0;34m\u001b[0m\u001b[0;34m\u001b[0m\u001b[0m\n\u001b[0m\u001b[1;32m    708\u001b[0m             )\n\u001b[1;32m    709\u001b[0m         \u001b[0;32melse\u001b[0m\u001b[0;34m:\u001b[0m\u001b[0;34m\u001b[0m\u001b[0;34m\u001b[0m\u001b[0m\n",
            "\u001b[0;31mFileNotFoundError\u001b[0m: [Errno 2] No such file or directory: '/content/data/df_blockchain.csv'"
          ]
        }
      ],
      "source": [
        "df_blockchain = pd.read_csv(os.path.join(DATADIR, \"df_blockchain.csv\"),  delimiter=\",\")\n"
      ]
    },
    {
      "cell_type": "markdown",
      "metadata": {
        "id": "huBJfECeVVuL"
      },
      "source": [
        "## Preparing data"
      ]
    },
    {
      "cell_type": "code",
      "execution_count": null,
      "metadata": {
        "id": "nRMeVivFxVkW"
      },
      "outputs": [],
      "source": [
        "index_with_nan = df_blockchain.index[df_blockchain.isnull().any(axis=1)]\n",
        "df_blockchain.drop(index_with_nan,0, inplace=True)\n",
        "dataset=df_blockchain"
      ]
    },
    {
      "cell_type": "code",
      "execution_count": null,
      "metadata": {
        "id": "yT4V6zf4v2sK"
      },
      "outputs": [],
      "source": [
        "data=df_blockchain\n",
        "data.Date = pd.to_datetime(data.Date, format='%Y/%m/%d')"
      ]
    },
    {
      "cell_type": "code",
      "execution_count": null,
      "metadata": {
        "id": "Umm41POgzItl"
      },
      "outputs": [],
      "source": [
        "def norm(col):\n",
        "  return (col-col.min())/(col.max()-col.min())"
      ]
    },
    {
      "cell_type": "code",
      "execution_count": null,
      "metadata": {
        "id": "IAu8GI5B1ZwR"
      },
      "outputs": [],
      "source": [
        "max_price,min_price=data['market-price'].max(),data['market-price'].min()\n",
        "max_price,min_price"
      ]
    },
    {
      "cell_type": "code",
      "execution_count": null,
      "metadata": {
        "id": "0YuicT7U9J3v"
      },
      "outputs": [],
      "source": [
        "data['price']=norm(data['price'])\n",
        "data['miners-revenue']=norm(data['miners-revenue'])\n",
        "data['cap']=norm(data['cap'])\n",
        "data['hash-rate']=norm(data['hash-rate'])\n",
        "data['v']=norm(data['v'])"
      ]
    },
    {
      "cell_type": "markdown",
      "metadata": {
        "id": "MeFE6RPaVQYl"
      },
      "source": [
        "## Analyse exogenous features"
      ]
    },
    {
      "cell_type": "code",
      "execution_count": null,
      "metadata": {
        "id": "er8zAUzY4Ykv"
      },
      "outputs": [],
      "source": [
        "fig = plt.figure(figsize=(20, 10))\n",
        "ax1 = fig.add_subplot(221)\n",
        "ax2 = fig.add_subplot(222)\n",
        "ax3 = fig.add_subplot(223)\n",
        "ax4 = fig.add_subplot(224)\n",
        "ax1.title.set_text('miners.revenue')\n",
        "ax2.title.set_text('capitalization')\n",
        "ax3.title.set_text('hash-rate')\n",
        "ax4.title.set_text('v')\n",
        "data['price'].plot(ax=ax1, label='market-price')\n",
        "data['price'].plot(ax=ax2, label='market-price')\n",
        "data['price'].plot(ax=ax3, label='market-price')\n",
        "data['price'].plot(ax=ax4, label='market-price')\n",
        "data['miners-revenue'].plot(ax=ax1, label='miners-revenue')\n",
        "data['cap'].plot(ax=ax2, label='cap')\n",
        "data['hash-rate'].plot(ax=ax3, label='hash-rate')\n",
        "data['v'].plot(ax=ax4, label='v')\n",
        "\n",
        "plt.show()"
      ]
    },
    {
      "cell_type": "markdown",
      "metadata": {
        "id": "ldHGfPEvACzK"
      },
      "source": [
        "Miners-revenue and Difficulty seem to be relevant exogenous data that will disturb less ARIMA simple model.\n",
        "\n",
        "We are expecting to have mode accuracy when considering their influence"
      ]
    },
    {
      "cell_type": "markdown",
      "metadata": {
        "id": "iTExbXVPBKru"
      },
      "source": [
        "## ARIMAX modeling with pyflux"
      ]
    },
    {
      "cell_type": "code",
      "execution_count": 1,
      "metadata": {
        "colab": {
          "base_uri": "https://localhost:8080/"
        },
        "id": "hXxwwvpLIA9D",
        "outputId": "f2f1240a-7570-4844-c162-1a71ab7e011e"
      },
      "outputs": [
        {
          "name": "stdout",
          "output_type": "stream",
          "text": [
            "Looking in indexes: https://pypi.org/simple, https://us-python.pkg.dev/colab-wheels/public/simple/\n",
            "Collecting git+https://github.com/RJT1990/pyflux\n",
            "  Cloning https://github.com/RJT1990/pyflux to /tmp/pip-req-build-zxn5fu5t\n",
            "  Running command git clone -q https://github.com/RJT1990/pyflux /tmp/pip-req-build-zxn5fu5t\n",
            "Requirement already satisfied: numpy in /usr/local/lib/python3.7/dist-packages (from pyflux==0.4.17) (1.21.6)\n",
            "Requirement already satisfied: pandas in /usr/local/lib/python3.7/dist-packages (from pyflux==0.4.17) (1.3.5)\n",
            "Requirement already satisfied: scipy in /usr/local/lib/python3.7/dist-packages (from pyflux==0.4.17) (1.4.1)\n",
            "Collecting numdifftools\n",
            "  Downloading numdifftools-0.9.40-py2.py3-none-any.whl (99 kB)\n",
            "\u001b[K     |████████████████████████████████| 99 kB 7.6 MB/s \n",
            "\u001b[?25hRequirement already satisfied: patsy in /usr/local/lib/python3.7/dist-packages (from pyflux==0.4.17) (0.5.2)\n",
            "Requirement already satisfied: statsmodels>=0.6 in /usr/local/lib/python3.7/dist-packages (from numdifftools->pyflux==0.4.17) (0.10.2)\n",
            "Collecting algopy>=0.4\n",
            "  Downloading algopy-0.5.7.zip (189 kB)\n",
            "\u001b[K     |████████████████████████████████| 189 kB 58.1 MB/s \n",
            "\u001b[?25hRequirement already satisfied: python-dateutil>=2.7.3 in /usr/local/lib/python3.7/dist-packages (from pandas->pyflux==0.4.17) (2.8.2)\n",
            "Requirement already satisfied: pytz>=2017.3 in /usr/local/lib/python3.7/dist-packages (from pandas->pyflux==0.4.17) (2022.1)\n",
            "Requirement already satisfied: six in /usr/local/lib/python3.7/dist-packages (from patsy->pyflux==0.4.17) (1.15.0)\n",
            "Building wheels for collected packages: pyflux, algopy\n",
            "  Building wheel for pyflux (setup.py) ... \u001b[?25l\u001b[?25hdone\n",
            "  Created wheel for pyflux: filename=pyflux-0.4.17-cp37-cp37m-linux_x86_64.whl size=5244470 sha256=e6c54dc1d2b98e07a714ff4a05ba6719d9913e59ede129ffe583cbeba36337fc\n",
            "  Stored in directory: /tmp/pip-ephem-wheel-cache-yxu4y_3s/wheels/96/8f/9c/4523f6aab114103428254ec8f7260d52bffaa1ea1add77a487\n",
            "  Building wheel for algopy (setup.py) ... \u001b[?25l\u001b[?25hdone\n",
            "  Created wheel for algopy: filename=algopy-0.5.7-py3-none-any.whl size=107608 sha256=aaa22abf32f0e36261bc0d15f712e6ed81ab6f245e2b7338f402b00a9a6eee5a\n",
            "  Stored in directory: /root/.cache/pip/wheels/a8/fd/06/21dc6aba9f680fdbde386c06b1a8a1cf3d9a5f6bd96e31dcd4\n",
            "Successfully built pyflux algopy\n",
            "Installing collected packages: algopy, numdifftools, pyflux\n",
            "Successfully installed algopy-0.5.7 numdifftools-0.9.40 pyflux-0.4.17\n"
          ]
        }
      ],
      "source": [
        "!pip install git+https://github.com/RJT1990/pyflux"
      ]
    },
    {
      "cell_type": "code",
      "execution_count": 2,
      "metadata": {
        "id": "LA-uSumhIJbM"
      },
      "outputs": [],
      "source": [
        "import pyflux as pf"
      ]
    },
    {
      "cell_type": "code",
      "execution_count": null,
      "metadata": {
        "id": "3FFnbeH10wBg"
      },
      "outputs": [],
      "source": [
        "data=data[['Date','price','miners-revenue','cap','v']]\n"
      ]
    },
    {
      "cell_type": "code",
      "execution_count": null,
      "metadata": {
        "id": "h1I6_2oF1W7o"
      },
      "outputs": [],
      "source": [
        "dataset.rename(columns={'market-price': 'price', 'miners-revenue':'mrevenue', 'hash-rate': 'hashrate',\n",
        "                           'total-bitcoins': 'total','market-cap':'cap'}, inplace=True)\n",
        "dataset['v']=dataset['cap']/dataset['total']\n"
      ]
    },
    {
      "cell_type": "code",
      "execution_count": null,
      "metadata": {
        "id": "_gqgSU2-rUtg"
      },
      "outputs": [],
      "source": [
        "def norm(col):\n",
        "  return (col-col.min())/(col.max()-col.min())"
      ]
    },
    {
      "cell_type": "code",
      "execution_count": null,
      "metadata": {
        "id": "u8p2M8FCrVrN"
      },
      "outputs": [],
      "source": [
        "dataset['price']=norm(dataset['price'])"
      ]
    },
    {
      "cell_type": "code",
      "execution_count": null,
      "metadata": {
        "id": "BlOgaWTrsFkL"
      },
      "outputs": [],
      "source": [
        "X_train, X_test = hf.data_split(dataset)"
      ]
    },
    {
      "cell_type": "code",
      "execution_count": null,
      "metadata": {
        "id": "s0dOYUk8Jt3F"
      },
      "outputs": [],
      "source": [
        "model = pf.ARIMAX(data=X_train[-1500:], formula = \"price~1+mrevenue-difficulty\" ,  ar=1,integ=1, ma=2, family=pf.Normal())\n",
        "x = model.fit(\"MLE\")\n",
        "x.summary()"
      ]
    },
    {
      "cell_type": "code",
      "execution_count": null,
      "metadata": {
        "id": "8qZfeViCPSCY"
      },
      "outputs": [],
      "source": [
        "model.plot_fit(figsize=(15,10))"
      ]
    },
    {
      "cell_type": "code",
      "execution_count": null,
      "metadata": {
        "id": "YArEqG1zpepV"
      },
      "outputs": [],
      "source": [
        "pred=model.predict(h=30,oos_data=X_train,intervals=False)"
      ]
    },
    {
      "cell_type": "code",
      "execution_count": null,
      "metadata": {
        "id": "etaVo2be1xgz"
      },
      "outputs": [],
      "source": [
        "rmse_score = np.sqrt(np.square(np.subtract(pred,dataset[-30:][['price']] )).mean())\n",
        "print(\"rmse score : \", rmse_score)"
      ]
    },
    {
      "cell_type": "code",
      "execution_count": null,
      "metadata": {
        "id": "qGTU2rt7qz4J"
      },
      "outputs": [],
      "source": [
        "plt.plot(dataset[-30:]['price'],label='True value')\n",
        "plt.plot(pred,label='predictions')\n",
        "plt.legend()\n",
        "plt.show()"
      ]
    },
    {
      "cell_type": "code",
      "execution_count": null,
      "metadata": {
        "id": "6eugHqjqPVuv"
      },
      "outputs": [],
      "source": [
        "model.plot_predict(h=30, oos_data=dataset[-100:], past_values=100, figsize=(15,5))"
      ]
    },
    {
      "cell_type": "markdown",
      "metadata": {
        "id": "2dl2oGMNz9bz"
      },
      "source": [
        "## Recursive autoregressive forecasting with exogenous variables using random forest"
      ]
    },
    {
      "cell_type": "code",
      "execution_count": null,
      "metadata": {
        "id": "HkFjelcRveY4"
      },
      "outputs": [],
      "source": [
        "# Data manipulation\n",
        "# ==============================================================================\n",
        "import numpy as np\n",
        "import pandas as pd\n",
        "\n",
        "# Plots\n",
        "# ==============================================================================\n",
        "import matplotlib.pyplot as plt\n",
        "plt.style.use('fivethirtyeight')\n",
        "plt.rcParams['lines.linewidth'] = 1.5\n",
        "%matplotlib inline\n",
        "\n",
        "# Modeling and Forecasting\n",
        "# ==============================================================================\n",
        "from sklearn.linear_model import LinearRegression\n",
        "from sklearn.linear_model import Lasso\n",
        "from sklearn.ensemble import RandomForestRegressor\n",
        "from sklearn.metrics import mean_squared_error\n",
        "from sklearn.preprocessing import StandardScaler\n",
        "from sklearn.pipeline import make_pipeline\n",
        "\n",
        "from skforecast.ForecasterAutoreg import ForecasterAutoreg\n",
        "from skforecast.ForecasterAutoregCustom import ForecasterAutoregCustom\n",
        "from skforecast.ForecasterAutoregMultiOutput import ForecasterAutoregMultiOutput\n",
        "from skforecast.model_selection import grid_search_forecaster\n",
        "from skforecast.model_selection import backtesting_forecaster\n",
        "\n",
        "from joblib import dump, load\n",
        "\n",
        "# Warnings configuration\n",
        "# ==============================================================================\n",
        "import warnings\n",
        "# warnings.filterwarnings('ignore')"
      ]
    },
    {
      "cell_type": "code",
      "execution_count": null,
      "metadata": {
        "id": "8w69pyE-vhGw"
      },
      "outputs": [],
      "source": [
        "!pip install skforecast"
      ]
    },
    {
      "cell_type": "code",
      "execution_count": null,
      "metadata": {
        "id": "JMzOrg600mHu"
      },
      "outputs": [],
      "source": [
        "df_blockchain = pd.read_csv(os.path.join(DATADIR, \"df_blockchain.csv\"), \n",
        "                            delimiter=\",\")"
      ]
    },
    {
      "cell_type": "markdown",
      "metadata": {
        "id": "IJgNM-oJVHe9"
      },
      "source": [
        "### Split data into train-test"
      ]
    },
    {
      "cell_type": "code",
      "execution_count": null,
      "metadata": {
        "id": "6hx67zHG1ufR"
      },
      "outputs": [],
      "source": [
        "steps = 30\n",
        "data_train = data[:-steps]\n",
        "data_test  = data[-steps:]"
      ]
    },
    {
      "cell_type": "markdown",
      "metadata": {
        "id": "VVmemh-RVMQf"
      },
      "source": [
        "### Create and train forecaster"
      ]
    },
    {
      "cell_type": "code",
      "execution_count": null,
      "metadata": {
        "id": "RCXzjopH2IeY"
      },
      "outputs": [],
      "source": [
        "forecaster = ForecasterAutoreg(regressor = RandomForestRegressor(random_state=123),lags=2)\n",
        "forecaster.fit(y=data_train['price'], exog=data_train['miners-revenue'])\n",
        "forecaster"
      ]
    },
    {
      "cell_type": "code",
      "execution_count": null,
      "metadata": {
        "id": "xEI4lBXT71KU"
      },
      "outputs": [],
      "source": [
        "def denorm(col):\n",
        "  return col*(max_price-min_price)+min_price"
      ]
    },
    {
      "cell_type": "markdown",
      "metadata": {
        "id": "jweEvqnWU7UE"
      },
      "source": [
        "### Test error"
      ]
    },
    {
      "cell_type": "code",
      "execution_count": null,
      "metadata": {
        "id": "aStzf4gj7vk2"
      },
      "outputs": [],
      "source": [
        "error_mse = mean_squared_error(\n",
        "                y_true = data_test['price'],\n",
        "                y_pred = predictions\n",
        "            )\n",
        "\n",
        "print(f\"Test error (mse): {error_mse}\")"
      ]
    },
    {
      "cell_type": "markdown",
      "metadata": {
        "id": "VuxLwEtTU2lG"
      },
      "source": [
        "### Hyperparameter tuning"
      ]
    },
    {
      "cell_type": "code",
      "execution_count": null,
      "metadata": {
        "id": "Yq7l73cW-W7l"
      },
      "outputs": [],
      "source": [
        "steps = 36\n",
        "forecaster = ForecasterAutoreg(\n",
        "                regressor = RandomForestRegressor(random_state=123),\n",
        "                lags      = 12 # This value will be replaced in the grid search\n",
        "             )\n",
        "\n",
        "lags_grid = [5, 12, 20]\n",
        "\n",
        "param_grid = {'n_estimators': [50, 100, 500],\n",
        "              'max_depth': [3, 5, 10]}\n",
        "\n",
        "results_grid = grid_search_forecaster(\n",
        "                        forecaster  = forecaster,\n",
        "                        y           = data_train['price'],\n",
        "                        exog        = data_train['miners-revenue'],\n",
        "                        param_grid  = param_grid,\n",
        "                        lags_grid   = lags_grid,\n",
        "                        steps       = steps,\n",
        "                        refit       = True,\n",
        "                        metric      = 'mean_squared_error',\n",
        "                        initial_train_size = int(len(data_train)*0.5),\n",
        "                        return_best = True,\n",
        "                        verbose     = False\n",
        "               )"
      ]
    },
    {
      "cell_type": "code",
      "execution_count": null,
      "metadata": {
        "id": "nW9Tyay2_akk"
      },
      "outputs": [],
      "source": [
        "# Grid Search results\n",
        "# ==============================================================================\n",
        "results_grid.head()"
      ]
    },
    {
      "cell_type": "markdown",
      "metadata": {
        "id": "qlmS1vawVhQO"
      },
      "source": [
        "### Visualization"
      ]
    },
    {
      "cell_type": "code",
      "execution_count": null,
      "metadata": {
        "id": "Xh2sVaF__jrU"
      },
      "outputs": [],
      "source": [
        "# Predictions\n",
        "# ==============================================================================\n",
        "predictions = forecaster.predict(steps=40, exog=data['miners-revenue'][-90:])\n",
        "\n",
        "# Plot\n",
        "# ==============================================================================\n",
        "fig, ax=plt.subplots(figsize=(9, 4))\n",
        "data_train['price'][-90:].plot(ax=ax, label='train')\n",
        "data_test['price'].plot(ax=ax, label='test')\n",
        "predictions[-30:].plot(ax=ax, label='predictions')\n",
        "ax.legend();"
      ]
    },
    {
      "cell_type": "code",
      "execution_count": null,
      "metadata": {
        "id": "71GUgTyZ_oFy"
      },
      "outputs": [],
      "source": [
        "# Test error\n",
        "# ==============================================================================\n",
        "error_mse = mean_squared_error(y_true = denorm(data_test['price']), y_pred = denorm(predictions[-30:]))\n",
        "print(f\"Test error (mse) {error_mse}\")"
      ]
    },
    {
      "cell_type": "markdown",
      "metadata": {
        "id": "6JnoIuFaAaPm"
      },
      "source": [
        "After very long computation time, it is disappointing to see that this fitting method is not a good option for our data"
      ]
    },
    {
      "cell_type": "markdown",
      "metadata": {
        "id": "jsgx-gJNS9Dv"
      },
      "source": [
        "# SARIMA"
      ]
    },
    {
      "cell_type": "markdown",
      "metadata": {
        "id": "m92GZ2eV-iB2"
      },
      "source": [
        "In the dataset there is no appearent seasonality, but we try to fit SARIMA model to look at the AICs indicators and be sure that SARIMA isn't relevant as a model\n",
        "\n",
        "\n",
        "\n",
        "\n",
        "\n"
      ]
    },
    {
      "cell_type": "code",
      "execution_count": null,
      "metadata": {
        "id": "J0z0OzoQkY5f"
      },
      "outputs": [],
      "source": [
        "import itertools\n",
        "import statsmodels.api as sm\n",
        "from sklearn.metrics import mean_squared_error\n",
        "p = range(1,2)\n",
        "q = range(2,3)\n",
        "pdq = list(itertools.product(p, [1], q))\n",
        "sp = sq = range(1,8)#range(0,1) <- ARIMAX\n",
        "seasonal_pdq = list(itertools.product(sp, [1,1], sq,[1]))#rlist(itertools.product(sp, [0], sq,[0]))<- ARIMAX\n",
        "seasonal_pdq=list(set(seasonal_pdq))\n",
        "seasonal_pdq"
      ]
    },
    {
      "cell_type": "code",
      "execution_count": null,
      "metadata": {
        "id": "9M8RIruTS2bE"
      },
      "outputs": [],
      "source": [
        "from sklearn.metrics import mean_squared_error\n",
        "params = []\n",
        "params_s = []\n",
        "aics = []\n",
        "mses = []\n",
        "cnt = 0\n",
        "i=0\n",
        "for param in pdq:\n",
        "    for param_seasonal in seasonal_pdq:\n",
        "            i+=1\n",
        "            print(i)    \n",
        "            mod = sm.tsa.statespace.SARIMAX(X_train['market-price'],order=param,seasonal_order=param_seasonal,enforce_stationarity=False,enforce_invertibility=False)\n",
        "\n",
        "            results = mod.fit()\n",
        "            \n",
        "\n",
        "            pred = results.predict(start=3514, end =3544)\n",
        "\n",
        "            params.append(param)\n",
        "            params_s.append(param_seasonal)\n",
        "            aics.append(results.aic)\n",
        "            \n",
        "            mses.append(mean_squared_error(X_test,pred[1:]))\n",
        "            #if cnt % 8 == 0:\n",
        "            print('SARIMAX{}x{} - AIC:{} - MSE:{}'.format(param,\n",
        "                                                            param_seasonal,\n",
        "                                                            results.aic,\n",
        "                                                        mses[-1]))\n",
        "                #cnt += 1\n",
        "print(aics)"
      ]
    },
    {
      "cell_type": "code",
      "execution_count": null,
      "metadata": {
        "id": "9uZQcv-lp_NE"
      },
      "outputs": [],
      "source": [
        "min_ind = aics.index(min(aics))\n",
        "bestparam = (params[min_ind],params_s[min_ind])\n",
        "print('best_param_aic:',bestparam,' aic:',min(aics))\n",
        "mses\n",
        "\n"
      ]
    },
    {
      "cell_type": "code",
      "execution_count": null,
      "metadata": {
        "id": "PiRZ-Hc5VYke"
      },
      "outputs": [],
      "source": [
        "bestparam = (params[min_ind],params_s[min_ind])\n",
        "print('best_param_aic:',bestparam,' aic:',min(aics))\n",
        "min_ind = mses.index(min(mses))\n",
        "bestparam = (params[min_ind],params_s[min_ind])\n",
        "print('best_param_mse:',bestparam,' mse:',min(mses))"
      ]
    },
    {
      "cell_type": "markdown",
      "metadata": {
        "id": "LmMAgF8izgbc"
      },
      "source": [
        "No seasonality, SARIMA is not a relevant model\n",
        "\n",
        "AICs and RMSE indicators are not satisfying and parameters are not significant \n",
        "\n"
      ]
    },
    {
      "cell_type": "markdown",
      "metadata": {
        "id": "IhrI97KOCbIr"
      },
      "source": [
        "# CONCLUSION"
      ]
    },
    {
      "cell_type": "markdown",
      "metadata": {
        "id": "m64iPGy-Cg3q"
      },
      "source": [
        "ARIMA model was the best fitting model It is the simplest but gives relevant predictions and best statistical indicators as AIC and P-value"
      ]
    }
  ],
  "metadata": {
    "accelerator": "GPU",
    "colab": {
      "collapsed_sections": [],
      "name": "case_study_arima_group_6_final (1) (1).ipynb",
      "provenance": [],
      "toc_visible": true
    },
    "kernelspec": {
      "display_name": "mds_env2",
      "language": "python",
      "name": "mds_env2"
    },
    "language_info": {
      "codemirror_mode": {
        "name": "ipython",
        "version": 3
      },
      "file_extension": ".py",
      "mimetype": "text/x-python",
      "name": "python",
      "nbconvert_exporter": "python",
      "pygments_lexer": "ipython3",
      "version": "3.7.10"
    },
    "toc": {
      "base_numbering": 1,
      "nav_menu": {},
      "number_sections": true,
      "sideBar": true,
      "skip_h1_title": false,
      "title_cell": "Table of Contents",
      "title_sidebar": "Contents",
      "toc_cell": false,
      "toc_position": {},
      "toc_section_display": true,
      "toc_window_display": false
    }
  },
  "nbformat": 4,
  "nbformat_minor": 0
}
